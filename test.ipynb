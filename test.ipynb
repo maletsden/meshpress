{
 "cells": [
  {
   "cell_type": "code",
   "source": [
    "import numpy as np\n",
    "import pickle\n",
    "\n",
    "from reader import *\n",
    "from encoder import *\n",
    "import matplotlib.pyplot as plt\n",
    "from utils import TunnelingStripifier, TriangleMesh\n",
    "\n",
    "bunny_model = Reader.read_from_file('assets/stanford-bunny.obj')\n",
    "\n",
    "baseline_encoder = BaselineEncoder()\n",
    "baseline_compressed_model = baseline_encoder.encode(bunny_model)\n",
    "\n",
    "# stripifier = TunnelingStripifier(TriangleMesh(bunny_model.vertices, bunny_model.triangles))\n",
    "# stripifier.run(iters=60_000)\n",
    "# with open('pickles/TunnelingStripifier(bunny_model).pkl', 'wb') as f:\n",
    "#     pickle.dump(stripifier, f)\n",
    "with open('pickles/TunnelingStripifier(bunny_model).pkl', 'rb') as f:\n",
    "    stripifier = pickle.load(f)\n",
    "strips = stripifier.extract_vertex_strips()\n",
    "bunny_model.triangle_strips = strips\n",
    "print(f\"Before: {len(bunny_model.triangles)} strips, {len(bunny_model.triangles) * 3} verts\")\n",
    "print(f\"After: {len(strips)} strips, {sum(len(s) for s in strips)} verts\")\n",
    "\n",
    "\n",
    "def print_statistics(compressed_model, name):\n",
    "    print(f\"{name} statistics:\")\n",
    "    print(f\"- Bytes per triangle: {compressed_model.bits_per_triangle / 8:.2f}\")\n",
    "    print(f\"- Bytes per vertex: {compressed_model.bits_per_vertex / 8:.2f}\")\n",
    "    print(f\"- Compression rate: {baseline_compressed_model.bits_per_vertex / compressed_model.bits_per_vertex:.2f}\")\n",
    "\n",
    "\n",
    "print_statistics(baseline_compressed_model, \"BaselineEncoder\")\n"
   ],
   "metadata": {
    "collapsed": false,
    "ExecuteTime": {
     "end_time": "2025-06-07T14:12:20.898814Z",
     "start_time": "2025-06-07T14:12:18.098979Z"
    }
   },
   "id": "988d71a5cb46ce52",
   "outputs": [
    {
     "name": "stdout",
     "output_type": "stream",
     "text": [
      "Before: 69451 strips, 208353 verts\n",
      "After: 17163 strips, 103777 verts\n",
      "BaselineEncoder statistics:\n",
      "- Bytes per triangle: 18.21\n",
      "- Bytes per vertex: 35.18\n",
      "- Compression rate: 1.00\n"
     ]
    }
   ],
   "execution_count": 1
  },
  {
   "metadata": {
    "ExecuteTime": {
     "end_time": "2025-06-07T14:15:01.136595Z",
     "start_time": "2025-06-07T14:15:01.133086Z"
    }
   },
   "cell_type": "code",
   "source": [
    "vertex_quantization_error = 0.0005\n",
    "encoders = [\n",
    "    (BaselineEncoder(), \"BaselineEncoder\", True),\n",
    "    (\n",
    "        SimpleQuantizator(pack_strip=Packing.NONE, pack_vertices=Packing.NONE,\n",
    "                          vertex_quantization_error=vertex_quantization_error, verbose=True),\n",
    "        f\"SimpleQuantizator(pack_strip=Packing.NONE, pack_vertices=Packing.NONE, vertex_quantization_error={vertex_quantization_error})\",\n",
    "        True\n",
    "    ),\n",
    "    (\n",
    "        SimpleQuantizator(pack_strip=Packing.RADIX_BINARY_TREE, pack_vertices=Packing.RADIX_BINARY_TREE,\n",
    "                          vertex_quantization_error=vertex_quantization_error, verbose=True),\n",
    "        f\"SimpleQuantizator(pack_strip=Packing.FIXED, pack_vertices=Packing.RADIX_BINARY_TREE, vertex_quantization_error={vertex_quantization_error})\",\n",
    "        True\n",
    "    ),\n",
    "]"
   ],
   "id": "f2dbc1775e62c77c",
   "outputs": [],
   "execution_count": 9
  },
  {
   "metadata": {
    "ExecuteTime": {
     "end_time": "2025-06-07T14:15:02.195096Z",
     "start_time": "2025-06-07T14:15:02.164015Z"
    }
   },
   "cell_type": "code",
   "source": [
    "import os\n",
    "\n",
    "compressed_models = []\n",
    "for encoder, name, allow_use_cached in encoders:\n",
    "    encoder_pickle_path = f'pickles/{name}_encoder(bunny_model).pkl'\n",
    "    encoded_model_pickle_path = f'pickles/{name}_encoded_model(bunny_model).pkl'\n",
    "\n",
    "    if allow_use_cached and os.path.exists(encoder_pickle_path):\n",
    "        with open(encoder_pickle_path, 'rb') as f:\n",
    "            encoder = pickle.load(f)\n",
    "        with open(encoded_model_pickle_path, 'rb') as f:\n",
    "            compressed_model = pickle.load(f)\n",
    "    else:\n",
    "        compressed_model = encoder.encode(bunny_model)\n",
    "        with open(encoder_pickle_path, 'wb') as f:\n",
    "            pickle.dump(encoder, f)\n",
    "        with open(encoded_model_pickle_path, 'wb') as f:\n",
    "            pickle.dump(compressed_model, f)\n",
    "    print_statistics(compressed_model, name)\n",
    "    compressed_models.append(compressed_model)"
   ],
   "id": "37a1acd0ac041758",
   "outputs": [
    {
     "name": "stdout",
     "output_type": "stream",
     "text": [
      "BaselineEncoder statistics:\n",
      "- Bytes per triangle: 18.21\n",
      "- Bytes per vertex: 35.18\n",
      "- Compression rate: 1.00\n",
      "SimpleQuantizator(pack_strip=Packing.NONE, pack_vertices=Packing.NONE, vertex_quantization_error=0.0005) statistics:\n",
      "- Bytes per triangle: 16.14\n",
      "- Bytes per vertex: 31.19\n",
      "- Compression rate: 1.13\n",
      "SimpleQuantizator(pack_strip=Packing.FIXED, pack_vertices=Packing.RADIX_BINARY_TREE, vertex_quantization_error=0.0005) statistics:\n",
      "- Bytes per triangle: 6.81\n",
      "- Bytes per vertex: 13.16\n",
      "- Compression rate: 2.67\n"
     ]
    }
   ],
   "execution_count": 10
  },
  {
   "metadata": {
    "ExecuteTime": {
     "end_time": "2025-06-07T14:17:19.388246Z",
     "start_time": "2025-06-07T14:17:19.101287Z"
    }
   },
   "cell_type": "code",
   "source": [
    "def show_and_save_bar_plots(compressed_models: List[CompressedModel]):\n",
    "    bytes_per_triangle = [model.bits_per_triangle / 8 for model in compressed_models]\n",
    "    compression_rate = [baseline_compressed_model.bits_per_vertex / model.bits_per_vertex for model in\n",
    "                        compressed_models]\n",
    "\n",
    "    # Create the histogram\n",
    "    plt.bar(list(range(len(bytes_per_triangle))), bytes_per_triangle)\n",
    "\n",
    "    # Add title and labels\n",
    "    plt.title('Encoder bytes per triangle comparison')\n",
    "    plt.xlabel('Solution')\n",
    "    plt.xticks(list(range(len(bytes_per_triangle))))\n",
    "    plt.ylabel('Bytes per triangle')\n",
    "\n",
    "    # Save the histogram as an image\n",
    "    plt.savefig('images/bytes_per_triangle_bar_plot.png')  # Save as PNG file\n",
    "    plt.show()  # Display the plot\n",
    "\n",
    "    # Create the histogram\n",
    "    plt.bar(list(range(len(compression_rate))), compression_rate)\n",
    "\n",
    "    # Add title and labels\n",
    "    plt.title('Encoders compression rate comparison')\n",
    "    plt.xlabel('Solution')\n",
    "    plt.xticks(list(range(len(compression_rate))))\n",
    "    plt.ylabel('Compression rate')\n",
    "\n",
    "    # Save the histogram as an image\n",
    "    plt.savefig('images/compression_rate_bar_plot.png')  # Save as PNG file\n",
    "    plt.show()  # Display the plot\n",
    "\n",
    "\n",
    "show_and_save_bar_plots(compressed_models)"
   ],
   "id": "4989f15c2c8eb60f",
   "outputs": [
    {
     "data": {
      "text/plain": [
       "<Figure size 640x480 with 1 Axes>"
      ],
      "image/png": "[encoded data removed]"
     },
     "metadata": {},
     "output_type": "display_data"
    },
    {
     "data": {
      "text/plain": [
       "<Figure size 640x480 with 1 Axes>"
      ],
      "image/png": "[encoded data removed]"
     },
     "metadata": {},
     "output_type": "display_data"
    }
   ],
   "execution_count": 11
  },
  {
   "metadata": {
    "ExecuteTime": {
     "end_time": "2025-06-07T13:10:15.897906Z",
     "start_time": "2025-06-07T13:10:15.864468Z"
    }
   },
   "cell_type": "code",
   "source": "",
   "id": "72b6bbf44db5a50a",
   "outputs": [
    {
     "name": "stdout",
     "output_type": "stream",
     "text": [
      "BaselineEncoder statistics:\n",
      "- Bytes per triangle: 18.21\n",
      "- Bytes per vertex: 35.18\n",
      "- Compression rate: 1.00\n"
     ]
    }
   ],
   "execution_count": 16
  },
  {
   "metadata": {
    "ExecuteTime": {
     "end_time": "2025-06-07T12:02:09.371433Z",
     "start_time": "2025-06-07T12:02:08.948887Z"
    }
   },
   "cell_type": "code",
   "source": "# stripifier = TunnelingStripifier(TriangleMesh(bunny_model.vertices, bunny_model.triangles))",
   "id": "f807ccde24e1e8b1",
   "outputs": [],
   "execution_count": 3
  },
  {
   "metadata": {
    "ExecuteTime": {
     "end_time": "2025-06-07T12:12:35.905777Z",
     "start_time": "2025-06-07T12:02:23.353581Z"
    }
   },
   "cell_type": "code",
   "source": "# stripifier.run(iters=60_000)",
   "id": "35fda5ac04d1d3e",
   "outputs": [
    {
     "name": "stderr",
     "output_type": "stream",
     "text": [
      " 87%|████████▋ | 52288/60000 [10:12<01:30, 85.36it/s] \n"
     ]
    }
   ],
   "execution_count": 4
  },
  {
   "metadata": {
    "ExecuteTime": {
     "end_time": "2025-06-07T12:13:56.507368Z",
     "start_time": "2025-06-07T12:13:56.318283Z"
    }
   },
   "cell_type": "code",
   "source": [
    "# import pickle\n",
    "# with open('pickles/TunnelingStripifier(bunny_model).pkl', 'wb') as f:\n",
    "#     pickle.dump(stripifier, f)"
   ],
   "id": "6919d10e2fd35663",
   "outputs": [],
   "execution_count": 5
  },
  {
   "metadata": {
    "ExecuteTime": {
     "end_time": "2025-06-07T12:14:04.190186Z",
     "start_time": "2025-06-07T12:14:03.769586Z"
    }
   },
   "cell_type": "code",
   "source": [
    "with open('pickles/TunnelingStripifier(bunny_model).pkl', 'rb') as f:\n",
    "    stripifier = pickle.load(f)"
   ],
   "id": "edccaa4e29b00a90",
   "outputs": [],
   "execution_count": 7
  },
  {
   "metadata": {
    "ExecuteTime": {
     "end_time": "2025-06-07T12:14:28.335483Z",
     "start_time": "2025-06-07T12:14:28.192008Z"
    }
   },
   "cell_type": "code",
   "source": "strips = loaded.extract_vertex_strips()",
   "id": "8ea0cceae405b10d",
   "outputs": [],
   "execution_count": 9
  },
  {
   "metadata": {},
   "cell_type": "code",
   "outputs": [],
   "execution_count": null,
   "source": "strips",
   "id": "f5a72c7baf34b682"
  },
  {
   "metadata": {
    "ExecuteTime": {
     "end_time": "2025-06-07T12:15:02.029135Z",
     "start_time": "2025-06-07T12:15:02.023990Z"
    }
   },
   "cell_type": "code",
   "source": [
    "print(f\"Before: {len(bunny_model.triangles)} strips, {len(bunny_model.triangles) * 3} verts\")\n",
    "print(f\"After: {len(strips)} strips, {sum(len(s) for s in strips)} verts\")"
   ],
   "id": "161e25716c516fd3",
   "outputs": [
    {
     "name": "stdout",
     "output_type": "stream",
     "text": [
      "Before: 69451 strips, 208353 verts\n",
      "After: 17163 strips, 103777 verts\n"
     ]
    }
   ],
   "execution_count": 10
  },
  {
   "metadata": {
    "ExecuteTime": {
     "end_time": "2025-06-03T13:44:00.555064Z",
     "start_time": "2025-06-03T13:42:02.266763Z"
    }
   },
   "cell_type": "code",
   "source": [
    "simple_ellipsoid_fitter_encoder = SimpleEllipsoidFitter(pack_strip=Packing.RADIX_BINARY_TREE,\n",
    "                                                        vertex_quantization_error=0.0005,\n",
    "                                                        max_hierarchical_fitting_depth=3,\n",
    "                                                        verbose=True)\n",
    "simple_ellipsoid_fitter_encoder_compressed_model = simple_ellipsoid_fitter_encoder.encode(\n",
    "    bunny_model.copy())\n",
    "\n",
    "print_statistics(simple_ellipsoid_fitter_encoder_compressed_model,\n",
    "                 \"SimpleEllipsoidFitter(0.0005, 3)\")"
   ],
   "id": "9558ff96ca6791de",
   "outputs": [
    {
     "ename": "KeyboardInterrupt",
     "evalue": "",
     "output_type": "error",
     "traceback": [
      "\u001B[1;31m---------------------------------------------------------------------------\u001B[0m",
      "\u001B[1;31mKeyboardInterrupt\u001B[0m                         Traceback (most recent call last)",
      "Cell \u001B[1;32mIn[3], line 5\u001B[0m\n\u001B[0;32m      1\u001B[0m simple_ellipsoid_fitter_encoder \u001B[38;5;241m=\u001B[39m SimpleEllipsoidFitter(pack_strip\u001B[38;5;241m=\u001B[39mPacking\u001B[38;5;241m.\u001B[39mRADIX_BINARY_TREE,\n\u001B[0;32m      2\u001B[0m                                                         vertex_quantization_error\u001B[38;5;241m=\u001B[39m\u001B[38;5;241m0.0005\u001B[39m,\n\u001B[0;32m      3\u001B[0m                                                         max_hierarchical_fitting_depth\u001B[38;5;241m=\u001B[39m\u001B[38;5;241m3\u001B[39m,\n\u001B[0;32m      4\u001B[0m                                                         verbose\u001B[38;5;241m=\u001B[39m\u001B[38;5;28;01mTrue\u001B[39;00m)\n\u001B[1;32m----> 5\u001B[0m simple_ellipsoid_fitter_encoder_compressed_model \u001B[38;5;241m=\u001B[39m \u001B[43msimple_ellipsoid_fitter_encoder\u001B[49m\u001B[38;5;241;43m.\u001B[39;49m\u001B[43mencode\u001B[49m\u001B[43m(\u001B[49m\n\u001B[0;32m      6\u001B[0m \u001B[43m    \u001B[49m\u001B[43mbunny_model\u001B[49m\u001B[38;5;241;43m.\u001B[39;49m\u001B[43mcopy\u001B[49m\u001B[43m(\u001B[49m\u001B[43m)\u001B[49m\u001B[43m)\u001B[49m\n\u001B[0;32m      8\u001B[0m print_statistics(simple_ellipsoid_fitter_encoder_compressed_model,\n\u001B[0;32m      9\u001B[0m                  \u001B[38;5;124m\"\u001B[39m\u001B[38;5;124mSimpleEllipsoidFitter(0.0005, 3)\u001B[39m\u001B[38;5;124m\"\u001B[39m)\n",
      "File \u001B[1;32mD:\\meshpress\\encoder\\implementation\\elipsoid_fitter.py:68\u001B[0m, in \u001B[0;36mBaseEllipsoidFitter.encode\u001B[1;34m(self, model)\u001B[0m\n\u001B[0;32m     67\u001B[0m \u001B[38;5;28;01mdef\u001B[39;00m \u001B[38;5;21mencode\u001B[39m(\u001B[38;5;28mself\u001B[39m, model: Model) \u001B[38;5;241m-\u001B[39m\u001B[38;5;241m>\u001B[39m CompressedModel:\n\u001B[1;32m---> 68\u001B[0m     \u001B[38;5;28;43mself\u001B[39;49m\u001B[38;5;241;43m.\u001B[39;49m\u001B[43mencode_triangles\u001B[49m\u001B[43m(\u001B[49m\u001B[43mmodel\u001B[49m\u001B[43m)\u001B[49m\n\u001B[0;32m     69\u001B[0m     \u001B[38;5;28mself\u001B[39m\u001B[38;5;241m.\u001B[39mencode_vertices(model)\n\u001B[0;32m     71\u001B[0m     bits_per_vertex \u001B[38;5;241m=\u001B[39m \u001B[38;5;28mlen\u001B[39m(\u001B[38;5;28mself\u001B[39m\u001B[38;5;241m.\u001B[39mbyte_array) \u001B[38;5;241m*\u001B[39m \u001B[38;5;241m8\u001B[39m \u001B[38;5;241m/\u001B[39m \u001B[38;5;28mlen\u001B[39m(model\u001B[38;5;241m.\u001B[39mvertices)\n",
      "File \u001B[1;32mD:\\meshpress\\encoder\\implementation\\elipsoid_fitter.py:317\u001B[0m, in \u001B[0;36mSimpleEllipsoidFitter.encode_triangles\u001B[1;34m(self, model)\u001B[0m\n\u001B[0;32m    316\u001B[0m \u001B[38;5;28;01mdef\u001B[39;00m \u001B[38;5;21mencode_triangles\u001B[39m(\u001B[38;5;28mself\u001B[39m, model: Model):\n\u001B[1;32m--> 317\u001B[0m     triangle_strip \u001B[38;5;241m=\u001B[39m \u001B[43mtriangle_list_to_strip\u001B[49m\u001B[43m(\u001B[49m\u001B[43m[\u001B[49m\u001B[43m[\u001B[49m\u001B[43mt\u001B[49m\u001B[38;5;241;43m.\u001B[39;49m\u001B[43ma\u001B[49m\u001B[43m,\u001B[49m\u001B[43m \u001B[49m\u001B[43mt\u001B[49m\u001B[38;5;241;43m.\u001B[39;49m\u001B[43mb\u001B[49m\u001B[43m,\u001B[49m\u001B[43m \u001B[49m\u001B[43mt\u001B[49m\u001B[38;5;241;43m.\u001B[39;49m\u001B[43mc\u001B[49m\u001B[43m]\u001B[49m\u001B[43m \u001B[49m\u001B[38;5;28;43;01mfor\u001B[39;49;00m\u001B[43m \u001B[49m\u001B[43mt\u001B[49m\u001B[43m \u001B[49m\u001B[38;5;129;43;01min\u001B[39;49;00m\u001B[43m \u001B[49m\u001B[43mmodel\u001B[49m\u001B[38;5;241;43m.\u001B[39;49m\u001B[43mtriangles\u001B[49m\u001B[43m]\u001B[49m\u001B[43m)\u001B[49m\n\u001B[0;32m    318\u001B[0m     vertices \u001B[38;5;241m=\u001B[39m model\u001B[38;5;241m.\u001B[39mvertices\n\u001B[0;32m    320\u001B[0m     byte_array \u001B[38;5;241m=\u001B[39m \u001B[38;5;28mself\u001B[39m\u001B[38;5;241m.\u001B[39mbyte_array\n",
      "File \u001B[1;32mD:\\meshpress\\utils\\geometry.py:180\u001B[0m, in \u001B[0;36mtriangle_list_to_strip\u001B[1;34m(triangle_list)\u001B[0m\n\u001B[0;32m    176\u001B[0m     \u001B[38;5;28;01mcontinue\u001B[39;00m\n\u001B[0;32m    178\u001B[0m t2 \u001B[38;5;241m=\u001B[39m triangle_list[i]\n\u001B[1;32m--> 180\u001B[0m shared_vertices \u001B[38;5;241m=\u001B[39m \u001B[43m[\u001B[49m\u001B[43mv\u001B[49m\u001B[43m \u001B[49m\u001B[38;5;28;43;01mfor\u001B[39;49;00m\u001B[43m \u001B[49m\u001B[43mv\u001B[49m\u001B[43m \u001B[49m\u001B[38;5;129;43;01min\u001B[39;49;00m\u001B[43m \u001B[49m\u001B[43mt2\u001B[49m\u001B[43m \u001B[49m\u001B[38;5;28;43;01mif\u001B[39;49;00m\u001B[43m \u001B[49m\u001B[43mv\u001B[49m\u001B[43m \u001B[49m\u001B[38;5;129;43;01min\u001B[39;49;00m\u001B[43m \u001B[49m\u001B[43m[\u001B[49m\u001B[43mstrip\u001B[49m\u001B[43m[\u001B[49m\u001B[38;5;241;43m-\u001B[39;49m\u001B[38;5;241;43m1\u001B[39;49m\u001B[43m]\u001B[49m\u001B[43m,\u001B[49m\u001B[43m \u001B[49m\u001B[43mstrip\u001B[49m\u001B[43m[\u001B[49m\u001B[38;5;241;43m-\u001B[39;49m\u001B[38;5;241;43m2\u001B[39;49m\u001B[43m]\u001B[49m\u001B[43m]\u001B[49m\u001B[43m]\u001B[49m\n\u001B[0;32m    182\u001B[0m \u001B[38;5;28;01mif\u001B[39;00m \u001B[38;5;28mlen\u001B[39m(shared_vertices) \u001B[38;5;241m==\u001B[39m \u001B[38;5;241m2\u001B[39m:\n\u001B[0;32m    183\u001B[0m     \u001B[38;5;66;03m# Triangles share an edge, add the new vertex while preserving order\u001B[39;00m\n\u001B[0;32m    184\u001B[0m     new_vertex \u001B[38;5;241m=\u001B[39m [v \u001B[38;5;28;01mfor\u001B[39;00m v \u001B[38;5;129;01min\u001B[39;00m t2 \u001B[38;5;28;01mif\u001B[39;00m v \u001B[38;5;129;01mnot\u001B[39;00m \u001B[38;5;129;01min\u001B[39;00m shared_vertices][\u001B[38;5;241m0\u001B[39m]\n",
      "File \u001B[1;32mD:\\meshpress\\utils\\geometry.py:180\u001B[0m, in \u001B[0;36m<listcomp>\u001B[1;34m(.0)\u001B[0m\n\u001B[0;32m    176\u001B[0m     \u001B[38;5;28;01mcontinue\u001B[39;00m\n\u001B[0;32m    178\u001B[0m t2 \u001B[38;5;241m=\u001B[39m triangle_list[i]\n\u001B[1;32m--> 180\u001B[0m shared_vertices \u001B[38;5;241m=\u001B[39m [v \u001B[38;5;28;01mfor\u001B[39;00m v \u001B[38;5;129;01min\u001B[39;00m t2 \u001B[38;5;28;01mif\u001B[39;00m v \u001B[38;5;129;01min\u001B[39;00m [strip[\u001B[38;5;241m-\u001B[39m\u001B[38;5;241m1\u001B[39m], strip[\u001B[38;5;241m-\u001B[39m\u001B[38;5;241m2\u001B[39m]]]\n\u001B[0;32m    182\u001B[0m \u001B[38;5;28;01mif\u001B[39;00m \u001B[38;5;28mlen\u001B[39m(shared_vertices) \u001B[38;5;241m==\u001B[39m \u001B[38;5;241m2\u001B[39m:\n\u001B[0;32m    183\u001B[0m     \u001B[38;5;66;03m# Triangles share an edge, add the new vertex while preserving order\u001B[39;00m\n\u001B[0;32m    184\u001B[0m     new_vertex \u001B[38;5;241m=\u001B[39m [v \u001B[38;5;28;01mfor\u001B[39;00m v \u001B[38;5;129;01min\u001B[39;00m t2 \u001B[38;5;28;01mif\u001B[39;00m v \u001B[38;5;129;01mnot\u001B[39;00m \u001B[38;5;129;01min\u001B[39;00m shared_vertices][\u001B[38;5;241m0\u001B[39m]\n",
      "\u001B[1;31mKeyboardInterrupt\u001B[0m: "
     ]
    }
   ],
   "execution_count": 3
  },
  {
   "metadata": {
    "ExecuteTime": {
     "end_time": "2025-06-03T13:44:00.576615300Z",
     "start_time": "2025-06-03T10:34:48.143833Z"
    }
   },
   "cell_type": "code",
   "source": [
    "simple_ellipsoid_fitter_encoder4 = SimpleEllipsoidFitter(pack_strip=Packing.RADIX_BINARY_TREE,\n",
    "                                                         vertex_quantization_error=0.0005,\n",
    "                                                         max_hierarchical_fitting_depth=4,\n",
    "                                                         verbose=True)\n",
    "simple_ellipsoid_fitter_encoder4_compressed_model = simple_ellipsoid_fitter_encoder4.encode(\n",
    "    bunny_model.copy())\n",
    "\n",
    "print_statistics(simple_ellipsoid_fitter_encoder4_compressed_model,\n",
    "                 \"SimpleEllipsoidFitter(0.0005, 4)\")"
   ],
   "id": "c8aeb9dfc2966f11",
   "outputs": [
    {
     "name": "stdout",
     "output_type": "stream",
     "text": [
      "SimpleEllipsoidFitter verbose statistics:\n",
      "- Header (in bytes): 32\n",
      "- Triangles strip entropy: 11.145\n",
      "- Triangles strip average code bit length: 11.363\n",
      "- Triangles strip (in bytes): 16456\n",
      "- Quantized vertices average code bit length: 13.395\n",
      "- Quantized vertices (in bytes): 4191\n",
      "SimpleEllipsoidFitter(0.0005, 4) statistics:\n",
      "- Bytes per triangle: 4.16\n",
      "- Bytes per vertex: 8.26\n",
      "- Compression rate: 4.34\n"
     ]
    }
   ],
   "execution_count": 6
  },
  {
   "metadata": {
    "ExecuteTime": {
     "end_time": "2025-06-03T13:44:00.580649200Z",
     "start_time": "2025-06-03T10:35:05.122795Z"
    }
   },
   "cell_type": "code",
   "source": [
    "packed_gts_ellipsoid_fitter_encoder = PackedGTSEllipsoidFitter(pack_strip=Packing.RADIX_BINARY_TREE,\n",
    "                                                               vertex_quantization_error=0.0005,\n",
    "                                                               max_hierarchical_fitting_depth=3,\n",
    "                                                               verbose=True)\n",
    "packed_gts_ellipsoid_fitter_compressed_model = packed_gts_ellipsoid_fitter_encoder.encode(\n",
    "    bunny_model.copy())\n",
    "\n",
    "print_statistics(packed_gts_ellipsoid_fitter_compressed_model,\n",
    "                 \"PackedGTSEllipsoidFitter(0.0005, 3)\")"
   ],
   "id": "28f429136fcfbda5",
   "outputs": [
    {
     "name": "stdout",
     "output_type": "stream",
     "text": [
      "PackedGTSEllipsoidFitter verbose statistics:\n",
      "- Header (in bytes): 32\n",
      "- Triangles strip entropy: 12.822\n",
      "- Triangles strip average code bit length: 9.708\n",
      "- Triangles strip (in bytes): 9458\n",
      "- Quantized vertices average code bit length: 16.205\n",
      "- Quantized vertices (in bytes): 5070\n",
      "PackedGTSEllipsoidFitter(0.0005, 3) statistics:\n",
      "- Bytes per triangle: 2.93\n",
      "- Bytes per vertex: 5.82\n",
      "- Compression rate: 6.16\n"
     ]
    }
   ],
   "execution_count": 7
  },
  {
   "metadata": {
    "ExecuteTime": {
     "end_time": "2025-06-03T13:44:00.619427Z",
     "start_time": "2025-06-03T10:35:14.275515Z"
    }
   },
   "cell_type": "code",
   "source": [
    "packed_gts_ellipsoid_fitter4_encoder = PackedGTSEllipsoidFitter(pack_strip=Packing.RADIX_BINARY_TREE,\n",
    "                                                                vertex_quantization_error=0.0005,\n",
    "                                                                max_hierarchical_fitting_depth=4,\n",
    "                                                                verbose=True)\n",
    "packed_gts_ellipsoid_fitter4_compressed_model = packed_gts_ellipsoid_fitter4_encoder.encode(\n",
    "    bunny_model.copy())\n",
    "\n",
    "print_statistics(packed_gts_ellipsoid_fitter4_compressed_model,\n",
    "                 \"PackedGTSEllipsoidFitter(0.0005, 4)\")"
   ],
   "id": "766741a9c91ad0e1",
   "outputs": [
    {
     "name": "stdout",
     "output_type": "stream",
     "text": [
      "PackedGTSEllipsoidFitter verbose statistics:\n",
      "- Header (in bytes): 32\n",
      "- Triangles strip entropy: 12.822\n",
      "- Triangles strip average code bit length: 9.708\n",
      "- Triangles strip (in bytes): 9458\n",
      "- Quantized vertices average code bit length: 13.402\n",
      "- Quantized vertices (in bytes): 4193\n",
      "PackedGTSEllipsoidFitter(0.0005, 4) statistics:\n",
      "- Bytes per triangle: 2.75\n",
      "- Bytes per vertex: 5.47\n",
      "- Compression rate: 6.55\n"
     ]
    }
   ],
   "execution_count": 8
  },
  {
   "metadata": {
    "ExecuteTime": {
     "end_time": "2025-06-03T13:48:36.352714Z",
     "start_time": "2025-06-03T13:44:18.057875Z"
    }
   },
   "cell_type": "code",
   "source": [
    "gts_parallelogram_predictor_huffman_encoder = GTSParallelogramPredictor(pack_strip=Packing.RADIX_BINARY_TREE,\n",
    "                                                                        entropy_encoder_type=Packing.HUFFMAN_ENCODER,\n",
    "                                                                        enable_entropy_encoder_conditional_probabilities=False,\n",
    "                                                                        verbose=True)\n",
    "gts_parallelogram_predictor_huffman_encoder_compressed_model = gts_parallelogram_predictor_huffman_encoder.encode(\n",
    "    bunny_model)\n",
    "\n",
    "print_statistics(gts_parallelogram_predictor_huffman_encoder_compressed_model,\n",
    "                 \"GTSParallelogramPredictor(Huffman encoder)\")"
   ],
   "id": "8629ce2f3a0053a1",
   "outputs": [
    {
     "ename": "KeyError",
     "evalue": "34834",
     "output_type": "error",
     "traceback": [
      "\u001B[1;31m---------------------------------------------------------------------------\u001B[0m",
      "\u001B[1;31mKeyError\u001B[0m                                  Traceback (most recent call last)",
      "Cell \u001B[1;32mIn[4], line 5\u001B[0m\n\u001B[0;32m      1\u001B[0m gts_parallelogram_predictor_huffman_encoder \u001B[38;5;241m=\u001B[39m GTSParallelogramPredictor(pack_strip\u001B[38;5;241m=\u001B[39mPacking\u001B[38;5;241m.\u001B[39mRADIX_BINARY_TREE,\n\u001B[0;32m      2\u001B[0m                                                                         entropy_encoder_type\u001B[38;5;241m=\u001B[39mPacking\u001B[38;5;241m.\u001B[39mHUFFMAN_ENCODER,\n\u001B[0;32m      3\u001B[0m                                                                         enable_entropy_encoder_conditional_probabilities\u001B[38;5;241m=\u001B[39m\u001B[38;5;28;01mFalse\u001B[39;00m,\n\u001B[0;32m      4\u001B[0m                                                                         verbose\u001B[38;5;241m=\u001B[39m\u001B[38;5;28;01mTrue\u001B[39;00m)\n\u001B[1;32m----> 5\u001B[0m gts_parallelogram_predictor_huffman_encoder_compressed_model \u001B[38;5;241m=\u001B[39m \u001B[43mgts_parallelogram_predictor_huffman_encoder\u001B[49m\u001B[38;5;241;43m.\u001B[39;49m\u001B[43mencode\u001B[49m\u001B[43m(\u001B[49m\n\u001B[0;32m      6\u001B[0m \u001B[43m    \u001B[49m\u001B[43mbunny_model\u001B[49m\u001B[43m)\u001B[49m\n\u001B[0;32m      8\u001B[0m print_statistics(gts_parallelogram_predictor_huffman_encoder_compressed_model,\n\u001B[0;32m      9\u001B[0m                  \u001B[38;5;124m\"\u001B[39m\u001B[38;5;124mGTSParallelogramPredictor(Huffman encoder)\u001B[39m\u001B[38;5;124m\"\u001B[39m)\n",
      "File \u001B[1;32mD:\\meshpress\\encoder\\implementation\\GTSParallelogramPredictor.py:38\u001B[0m, in \u001B[0;36mGTSParallelogramPredictor.encode\u001B[1;34m(self, model)\u001B[0m\n\u001B[0;32m     34\u001B[0m     \u001B[38;5;28;01mreturn\u001B[39;00m reorder_map\n\u001B[0;32m     36\u001B[0m reorder_map \u001B[38;5;241m=\u001B[39m calculate_reorder_map()\n\u001B[1;32m---> 38\u001B[0m vertices, triangle_strip \u001B[38;5;241m=\u001B[39m \u001B[43mreorder_vertices\u001B[49m\u001B[43m(\u001B[49m\u001B[43mvertices\u001B[49m\u001B[43m,\u001B[49m\u001B[43m \u001B[49m\u001B[43mtriangle_strip\u001B[49m\u001B[43m,\u001B[49m\u001B[43m \u001B[49m\u001B[43mreorder_map\u001B[49m\u001B[43m)\u001B[49m\n\u001B[0;32m     40\u001B[0m \u001B[38;5;28mself\u001B[39m\u001B[38;5;241m.\u001B[39mtriangle_strip \u001B[38;5;241m=\u001B[39m triangle_strip\n\u001B[0;32m     41\u001B[0m \u001B[38;5;28mself\u001B[39m\u001B[38;5;241m.\u001B[39mstrip_side_bits \u001B[38;5;241m=\u001B[39m strip_side_bits\n",
      "File \u001B[1;32mD:\\meshpress\\utils\\geometry.py:248\u001B[0m, in \u001B[0;36mreorder_vertices\u001B[1;34m(vertices, triangle_strip, indices_remap)\u001B[0m\n\u001B[0;32m    246\u001B[0m \u001B[38;5;28;01mdef\u001B[39;00m \u001B[38;5;21mreorder_vertices\u001B[39m(vertices, triangle_strip, indices_remap):\n\u001B[0;32m    247\u001B[0m     indices_remapping_inverse \u001B[38;5;241m=\u001B[39m {new: old \u001B[38;5;28;01mfor\u001B[39;00m old, new \u001B[38;5;129;01min\u001B[39;00m indices_remap\u001B[38;5;241m.\u001B[39mitems()}\n\u001B[1;32m--> 248\u001B[0m     reordered_vertices \u001B[38;5;241m=\u001B[39m \u001B[43m[\u001B[49m\u001B[43mvertices\u001B[49m\u001B[43m[\u001B[49m\u001B[43mindices_remapping_inverse\u001B[49m\u001B[43m[\u001B[49m\u001B[43mi\u001B[49m\u001B[43m]\u001B[49m\u001B[43m]\u001B[49m\u001B[43m \u001B[49m\u001B[38;5;28;43;01mfor\u001B[39;49;00m\u001B[43m \u001B[49m\u001B[43mi\u001B[49m\u001B[43m \u001B[49m\u001B[38;5;129;43;01min\u001B[39;49;00m\u001B[43m \u001B[49m\u001B[38;5;28;43mrange\u001B[39;49m\u001B[43m(\u001B[49m\u001B[38;5;28;43mlen\u001B[39;49m\u001B[43m(\u001B[49m\u001B[43mvertices\u001B[49m\u001B[43m)\u001B[49m\u001B[43m)\u001B[49m\u001B[43m]\u001B[49m\n\u001B[0;32m    249\u001B[0m     reordered_triangle_strip \u001B[38;5;241m=\u001B[39m [indices_remap[v] \u001B[38;5;28;01mfor\u001B[39;00m v \u001B[38;5;129;01min\u001B[39;00m triangle_strip]\n\u001B[0;32m    251\u001B[0m     \u001B[38;5;28;01mreturn\u001B[39;00m reordered_vertices, reordered_triangle_strip\n",
      "File \u001B[1;32mD:\\meshpress\\utils\\geometry.py:248\u001B[0m, in \u001B[0;36m<listcomp>\u001B[1;34m(.0)\u001B[0m\n\u001B[0;32m    246\u001B[0m \u001B[38;5;28;01mdef\u001B[39;00m \u001B[38;5;21mreorder_vertices\u001B[39m(vertices, triangle_strip, indices_remap):\n\u001B[0;32m    247\u001B[0m     indices_remapping_inverse \u001B[38;5;241m=\u001B[39m {new: old \u001B[38;5;28;01mfor\u001B[39;00m old, new \u001B[38;5;129;01min\u001B[39;00m indices_remap\u001B[38;5;241m.\u001B[39mitems()}\n\u001B[1;32m--> 248\u001B[0m     reordered_vertices \u001B[38;5;241m=\u001B[39m [vertices[\u001B[43mindices_remapping_inverse\u001B[49m\u001B[43m[\u001B[49m\u001B[43mi\u001B[49m\u001B[43m]\u001B[49m] \u001B[38;5;28;01mfor\u001B[39;00m i \u001B[38;5;129;01min\u001B[39;00m \u001B[38;5;28mrange\u001B[39m(\u001B[38;5;28mlen\u001B[39m(vertices))]\n\u001B[0;32m    249\u001B[0m     reordered_triangle_strip \u001B[38;5;241m=\u001B[39m [indices_remap[v] \u001B[38;5;28;01mfor\u001B[39;00m v \u001B[38;5;129;01min\u001B[39;00m triangle_strip]\n\u001B[0;32m    251\u001B[0m     \u001B[38;5;28;01mreturn\u001B[39;00m reordered_vertices, reordered_triangle_strip\n",
      "\u001B[1;31mKeyError\u001B[0m: 34834"
     ]
    }
   ],
   "execution_count": 4
  },
  {
   "metadata": {
    "ExecuteTime": {
     "end_time": "2025-06-03T13:44:00.620429600Z",
     "start_time": "2025-06-03T11:19:35.608869Z"
    }
   },
   "cell_type": "code",
   "source": [
    "gts_parallelogram_predictor_adaptive_huffman_encoder = GTSParallelogramPredictor(\n",
    "    pack_strip=Packing.RADIX_BINARY_TREE,\n",
    "    entropy_encoder_type=Packing.HUFFMAN_ENCODER,\n",
    "    enable_entropy_encoder_conditional_probabilities=True,\n",
    "    verbose=True)\n",
    "gts_parallelogram_predictor_adaptive_huffman_encoder_compressed_model = gts_parallelogram_predictor_adaptive_huffman_encoder.encode(\n",
    "    bunny_model)\n",
    "\n",
    "print_statistics(gts_parallelogram_predictor_adaptive_huffman_encoder_compressed_model,\n",
    "                 \"GTSParallelogramPredictor(adaptive Huffman encoder)\")"
   ],
   "id": "31ec71b8337f086b",
   "outputs": [
    {
     "name": "stdout",
     "output_type": "stream",
     "text": [
      "GTSQuantizator verbose statistics:\n",
      "- Header (in bytes): 32\n",
      "- Triangles strip entropy: 12.822\n",
      "- Triangles strip average code bit length: 9.708\n",
      "- Triangles strip (in bytes): 9458\n",
      "- Quantized vertices entropy: 4.997038737229633\n",
      "- Quantized vertices average code bit length: 5.118\n",
      "- Quantized vertices (in bytes): 14960\n",
      "GTSParallelogramPredictor(adaptive Huffman encoder) statistics:\n",
      "- Bytes per triangle: 4.92\n",
      "- Bytes per vertex: 9.77\n",
      "- Compression rate: 3.67\n"
     ]
    }
   ],
   "execution_count": 13
  },
  {
   "metadata": {
    "ExecuteTime": {
     "end_time": "2025-06-03T13:44:00.621430200Z",
     "start_time": "2025-06-03T11:19:46.768800Z"
    }
   },
   "cell_type": "code",
   "source": [
    "gts_parallelogram_predictor_arithmetic_encoder = GTSParallelogramPredictor(pack_strip=Packing.RADIX_BINARY_TREE,\n",
    "                                                                           entropy_encoder_type=Packing.ARITHMETIC_ENCODER,\n",
    "                                                                           enable_entropy_encoder_conditional_probabilities=False,\n",
    "                                                                           verbose=True)\n",
    "gts_parallelogram_predictor_arithmetic_encoder_compressed_model = gts_parallelogram_predictor_arithmetic_encoder.encode(\n",
    "    bunny_model)\n",
    "\n",
    "print_statistics(gts_parallelogram_predictor_arithmetic_encoder_compressed_model,\n",
    "                 \"GTSParallelogramPredictor(arithmetic encoder)\")"
   ],
   "id": "28346cdfd94c8908",
   "outputs": [
    {
     "name": "stdout",
     "output_type": "stream",
     "text": [
      "GTSQuantizator verbose statistics:\n",
      "- Header (in bytes): 32\n",
      "- Triangles strip entropy: 12.822\n",
      "- Triangles strip average code bit length: 9.708\n",
      "- Triangles strip (in bytes): 9458\n"
     ]
    },
    {
     "name": "stderr",
     "output_type": "stream",
     "text": [
      "100%|██████████| 23383/23383 [00:00<00:00, 191491.82it/s]"
     ]
    },
    {
     "name": "stdout",
     "output_type": "stream",
     "text": [
      "- Quantized vertices entropy: 4.997038737229633\n",
      "- Quantized vertices average code bit length: 5.123\n",
      "- Quantized vertices (in bytes): 14973\n",
      "GTSParallelogramPredictor(arithmetic encoder) statistics:\n",
      "- Bytes per triangle: 4.92\n",
      "- Bytes per vertex: 9.77\n",
      "- Compression rate: 3.67\n"
     ]
    },
    {
     "name": "stderr",
     "output_type": "stream",
     "text": [
      "\n"
     ]
    }
   ],
   "execution_count": 14
  },
  {
   "metadata": {
    "ExecuteTime": {
     "end_time": "2025-06-03T13:44:00.621430200Z",
     "start_time": "2025-06-03T11:19:48.409555Z"
    }
   },
   "cell_type": "code",
   "source": [
    "gts_parallelogram_predictor_adaptive_arithmetic_encoder = GTSParallelogramPredictor(\n",
    "    pack_strip=Packing.RADIX_BINARY_TREE,\n",
    "    entropy_encoder_type=Packing.ARITHMETIC_ENCODER,\n",
    "    enable_entropy_encoder_conditional_probabilities=True,\n",
    "    verbose=True)\n",
    "gts_parallelogram_predictor_adaptive_arithmetic_encoder_compressed_model = gts_parallelogram_predictor_adaptive_arithmetic_encoder.encode(\n",
    "    bunny_model)\n",
    "\n",
    "print_statistics(gts_parallelogram_predictor_adaptive_arithmetic_encoder_compressed_model,\n",
    "                 \"GTSParallelogramPredictor(adaptive arithmetic encoder)\")"
   ],
   "id": "1e7b666656b17841",
   "outputs": [
    {
     "name": "stdout",
     "output_type": "stream",
     "text": [
      "GTSQuantizator verbose statistics:\n",
      "- Header (in bytes): 32\n",
      "- Triangles strip entropy: 12.822\n",
      "- Triangles strip average code bit length: 9.708\n",
      "- Triangles strip (in bytes): 9458\n"
     ]
    },
    {
     "name": "stderr",
     "output_type": "stream",
     "text": [
      "100%|██████████| 23383/23383 [00:00<00:00, 27419.90it/s]"
     ]
    },
    {
     "name": "stdout",
     "output_type": "stream",
     "text": [
      "- Quantized vertices entropy: 4.997038737229633\n",
      "- Quantized vertices average code bit length: 5.089\n",
      "- Quantized vertices (in bytes): 14875\n",
      "GTSParallelogramPredictor(adaptive arithmetic encoder) statistics:\n",
      "- Bytes per triangle: 4.90\n",
      "- Bytes per vertex: 9.73\n",
      "- Compression rate: 3.68\n"
     ]
    },
    {
     "name": "stderr",
     "output_type": "stream",
     "text": [
      "\n"
     ]
    }
   ],
   "execution_count": 15
  },
  {
   "cell_type": "code",
   "source": [
    "packed_gts_encoder_radix_binary_tree_packing = PackedGTSQuantizator(pack_strip=Packing.RADIX_BINARY_TREE,\n",
    "                                                                    verbose=True)\n",
    "packed_gts_encoder_radix_binary_tree_packing_compressed_model = packed_gts_encoder_radix_binary_tree_packing.encode(\n",
    "    bunny_model)\n",
    "\n",
    "print_statistics(packed_gts_encoder_radix_binary_tree_packing_compressed_model,\n",
    "                 \"PackedGTSQuantizator(radix binary tree packing)\")"
   ],
   "metadata": {
    "collapsed": false,
    "ExecuteTime": {
     "end_time": "2025-06-03T13:44:00.621430200Z",
     "start_time": "2025-06-03T11:19:50.874203Z"
    }
   },
   "id": "7dc72f5ecd0a3ebe",
   "outputs": [
    {
     "name": "stdout",
     "output_type": "stream",
     "text": [
      "GTSQuantizator verbose statistics:\n",
      "- Header (in bytes): 32\n",
      "- Triangles strip entropy: 12.822\n",
      "- Triangles strip average code bit length: 9.708\n",
      "- Triangles strip (in bytes): 9458\n",
      "- Quantized vertices entropy: 11.520605177332085\n",
      "- Quantized vertices average code bit length: 12.002\n",
      "- Quantized vertices (in bytes): 11265\n",
      "PackedGTSQuantizator(radix binary tree packing) statistics:\n",
      "- Bytes per triangle: 4.18\n",
      "- Bytes per vertex: 8.29\n",
      "- Compression rate: 4.32\n"
     ]
    }
   ],
   "execution_count": 16
  },
  {
   "cell_type": "code",
   "source": [
    "encoder_no_packing = SimpleQuantizator(pack_strip=Packing.NONE, verbose=True)\n",
    "encoder_no_packing_compressed_model = encoder_no_packing.encode(bunny_model)\n",
    "\n",
    "print_statistics(encoder_no_packing_compressed_model, \"SimpleQuantizator(no packing)\")"
   ],
   "metadata": {
    "collapsed": false,
    "ExecuteTime": {
     "end_time": "2025-06-03T13:44:00.621430200Z",
     "start_time": "2025-06-03T11:19:52.357346Z"
    }
   },
   "id": "ba48a29c99cf8065",
   "outputs": [
    {
     "name": "stdout",
     "output_type": "stream",
     "text": [
      "SimpleQuantizator verbose statistics:\n",
      "- Header (in bytes): 32\n",
      "- Triangles strip entropy: 11.145\n",
      "- Triangles strip average code bit length: 32.000\n",
      "- Triangles strip (in bytes): 46344\n",
      "- Quantized vertices entropy: 11.52060517733206\n",
      "- Quantized vertices average code bit length: 12.002\n",
      "- Quantized vertices (in bytes): 11265\n",
      "SimpleQuantizator(no packing) statistics:\n",
      "- Bytes per triangle: 11.60\n",
      "- Bytes per vertex: 23.03\n",
      "- Compression rate: 1.56\n"
     ]
    }
   ],
   "execution_count": 17
  },
  {
   "cell_type": "code",
   "source": [
    "encoder_fixed_packing = SimpleQuantizator(pack_strip=Packing.FIXED, verbose=True)\n",
    "encoder_fixed_packing_model = encoder_fixed_packing.encode(bunny_model)\n",
    "\n",
    "print_statistics(encoder_fixed_packing_model, \"SimpleQuantizator(fixed packing)\")"
   ],
   "metadata": {
    "collapsed": false,
    "ExecuteTime": {
     "end_time": "2025-06-03T13:44:00.621430200Z",
     "start_time": "2025-06-03T11:19:55.265739Z"
    }
   },
   "id": "8eb8574a8947c069",
   "outputs": [
    {
     "name": "stdout",
     "output_type": "stream",
     "text": [
      "SimpleQuantizator verbose statistics:\n",
      "- Header (in bytes): 32\n",
      "- Triangles strip entropy: 11.145\n",
      "- Triangles strip average code bit length: 12.000\n",
      "- Triangles strip (in bytes): 17379\n",
      "- Quantized vertices entropy: 11.52060517733206\n",
      "- Quantized vertices average code bit length: 12.002\n",
      "- Quantized vertices (in bytes): 11265\n",
      "SimpleQuantizator(fixed packing) statistics:\n",
      "- Bytes per triangle: 5.77\n",
      "- Bytes per vertex: 11.46\n",
      "- Compression rate: 3.13\n"
     ]
    }
   ],
   "execution_count": 18
  },
  {
   "cell_type": "code",
   "source": [
    "encoder_binary_range_partitioning_packing = SimpleQuantizator(pack_strip=Packing.BINARY_RANGE_PARTITIONING,\n",
    "                                                              verbose=True)\n",
    "encoder_binary_range_partitioning_packing_compressed_model = encoder_binary_range_partitioning_packing.encode(\n",
    "    bunny_model)\n",
    "\n",
    "print_statistics(encoder_binary_range_partitioning_packing_compressed_model,\n",
    "                 \"SimpleQuantizator(binary range partitioning packing)\")"
   ],
   "metadata": {
    "collapsed": false,
    "ExecuteTime": {
     "end_time": "2025-06-03T13:44:00.622431300Z",
     "start_time": "2025-06-03T11:19:58.112847Z"
    }
   },
   "id": "25b1d925777db53c",
   "outputs": [
    {
     "name": "stdout",
     "output_type": "stream",
     "text": [
      "SimpleQuantizator verbose statistics:\n",
      "- Header (in bytes): 32\n",
      "- Triangles strip entropy: 11.145\n",
      "- Triangles strip average code bit length: 11.709\n",
      "- Triangles strip (in bytes): 16958\n",
      "- Quantized vertices entropy: 11.52060517733206\n",
      "- Quantized vertices average code bit length: 12.002\n",
      "- Quantized vertices (in bytes): 11265\n",
      "SimpleQuantizator(binary range partitioning packing) statistics:\n",
      "- Bytes per triangle: 5.69\n",
      "- Bytes per vertex: 11.29\n",
      "- Compression rate: 3.17\n"
     ]
    }
   ],
   "execution_count": 19
  },
  {
   "cell_type": "code",
   "source": [
    "encoder_binary_range_partitioning_packing = SimpleQuantizator(pack_strip=Packing.BINARY_RANGE_PARTITIONING,\n",
    "                                                              allow_reorder=True, verbose=True)\n",
    "encoder_binary_range_partitioning_packing_compressed_model = encoder_binary_range_partitioning_packing.encode(\n",
    "    bunny_model)\n",
    "\n",
    "print_statistics(encoder_binary_range_partitioning_packing_compressed_model,\n",
    "                 \"SimpleQuantizator(binary range partitioning packing, reordered)\")"
   ],
   "metadata": {
    "collapsed": false,
    "ExecuteTime": {
     "end_time": "2025-06-03T13:44:00.622431300Z",
     "start_time": "2025-06-03T11:20:00.938296Z"
    }
   },
   "id": "bd9053d5b8aec29d",
   "outputs": [
    {
     "name": "stdout",
     "output_type": "stream",
     "text": [
      "SimpleQuantizator verbose statistics:\n",
      "- Header (in bytes): 32\n",
      "- Triangles strip entropy: 11.145\n",
      "- Triangles strip average code bit length: 11.465\n",
      "- Triangles strip (in bytes): 16604\n",
      "- Quantized vertices entropy: 11.520605177332088\n",
      "- Quantized vertices average code bit length: 12.002\n",
      "- Quantized vertices (in bytes): 11265\n",
      "SimpleQuantizator(binary range partitioning packing, reordered) statistics:\n",
      "- Bytes per triangle: 5.62\n",
      "- Bytes per vertex: 11.15\n",
      "- Compression rate: 3.21\n"
     ]
    }
   ],
   "execution_count": 20
  },
  {
   "cell_type": "code",
   "source": [
    "encoder_radix_binary_tree_packing = SimpleQuantizator(pack_strip=Packing.RADIX_BINARY_TREE, verbose=True)\n",
    "encoder_radix_binary_tree_packing_compressed_model = encoder_radix_binary_tree_packing.encode(bunny_model)\n",
    "\n",
    "print_statistics(encoder_radix_binary_tree_packing_compressed_model, \"SimpleQuantizator(radix binary tree packing)\")"
   ],
   "metadata": {
    "collapsed": false,
    "ExecuteTime": {
     "end_time": "2025-06-03T13:44:00.623432100Z",
     "start_time": "2025-06-03T11:20:03.791153Z"
    }
   },
   "id": "762f020ebbc94de9",
   "outputs": [
    {
     "name": "stdout",
     "output_type": "stream",
     "text": [
      "SimpleQuantizator verbose statistics:\n",
      "- Header (in bytes): 32\n",
      "- Triangles strip entropy: 11.145\n",
      "- Triangles strip average code bit length: 11.363\n",
      "- Triangles strip (in bytes): 16456\n",
      "- Quantized vertices entropy: 11.52060517733206\n",
      "- Quantized vertices average code bit length: 12.002\n",
      "- Quantized vertices (in bytes): 11265\n",
      "SimpleQuantizator(radix binary tree packing) statistics:\n",
      "- Bytes per triangle: 5.59\n",
      "- Bytes per vertex: 11.09\n",
      "- Compression rate: 3.23\n"
     ]
    }
   ],
   "execution_count": 21
  },
  {
   "cell_type": "code",
   "source": [
    "encoder_radix_binary_tree_packing = SimpleQuantizator(pack_strip=Packing.RADIX_BINARY_TREE, allow_reorder=True,\n",
    "                                                      verbose=True)\n",
    "encoder_radix_binary_tree_packing_compressed_model = encoder_radix_binary_tree_packing.encode(bunny_model)\n",
    "\n",
    "print_statistics(encoder_radix_binary_tree_packing_compressed_model,\n",
    "                 \"SimpleQuantizator(radix binary tree packing, reordered)\")"
   ],
   "metadata": {
    "collapsed": false,
    "ExecuteTime": {
     "end_time": "2025-06-03T13:44:00.623432100Z",
     "start_time": "2025-06-03T11:20:06.614198Z"
    }
   },
   "id": "bf387afbe3f60c27",
   "outputs": [
    {
     "name": "stdout",
     "output_type": "stream",
     "text": [
      "SimpleQuantizator verbose statistics:\n",
      "- Header (in bytes): 32\n",
      "- Triangles strip entropy: 11.145\n",
      "- Triangles strip average code bit length: 11.208\n",
      "- Triangles strip (in bytes): 16232\n",
      "- Quantized vertices entropy: 11.5206051773321\n",
      "- Quantized vertices average code bit length: 12.002\n",
      "- Quantized vertices (in bytes): 11265\n",
      "SimpleQuantizator(radix binary tree packing, reordered) statistics:\n",
      "- Bytes per triangle: 5.54\n",
      "- Bytes per vertex: 11.00\n",
      "- Compression rate: 3.26\n"
     ]
    }
   ],
   "execution_count": 22
  },
  {
   "cell_type": "code",
   "source": [
    "gts_encoder_fixed_packing = GTSQuantizator(pack_strip=Packing.FIXED, verbose=True)\n",
    "gts_encoder_fixed_packing_compressed_model = gts_encoder_fixed_packing.encode(bunny_model)\n",
    "\n",
    "print_statistics(gts_encoder_fixed_packing_compressed_model, \"GTSQuantizator(fixed packing)\")"
   ],
   "metadata": {
    "collapsed": false,
    "ExecuteTime": {
     "end_time": "2025-06-03T13:44:00.623432100Z",
     "start_time": "2025-06-03T11:20:09.441718Z"
    }
   },
   "id": "fb18c1377d73d06c",
   "outputs": [
    {
     "name": "stdout",
     "output_type": "stream",
     "text": [
      "GTSQuantizator verbose statistics:\n",
      "- Header (in bytes): 32\n",
      "- Triangles strip entropy: 12.132\n",
      "- Triangles strip average code bit length: 13.000\n",
      "- Triangles strip (in bytes): 12665\n",
      "- Quantized vertices entropy: 11.52060517733206\n",
      "- Quantized vertices average code bit length: 12.002\n",
      "- Quantized vertices (in bytes): 11265\n",
      "GTSQuantizator(fixed packing) statistics:\n",
      "- Bytes per triangle: 4.82\n",
      "- Bytes per vertex: 9.57\n",
      "- Compression rate: 3.74\n"
     ]
    }
   ],
   "execution_count": 23
  },
  {
   "cell_type": "code",
   "source": [
    "gts_encoder_radix_binary_tree_packing = GTSQuantizator(pack_strip=Packing.RADIX_BINARY_TREE, verbose=True)\n",
    "gts_encoder_radix_binary_tree_packing_compressed_model = gts_encoder_radix_binary_tree_packing.encode(bunny_model)\n",
    "\n",
    "print_statistics(gts_encoder_radix_binary_tree_packing_compressed_model, \"GTSQuantizator(radix binary tree packing)\")"
   ],
   "metadata": {
    "collapsed": false,
    "ExecuteTime": {
     "end_time": "2025-06-03T13:44:00.623432100Z",
     "start_time": "2025-06-03T11:20:10.914789Z"
    }
   },
   "id": "d86a1400546bcb91",
   "outputs": [
    {
     "name": "stdout",
     "output_type": "stream",
     "text": [
      "GTSQuantizator verbose statistics:\n",
      "- Header (in bytes): 32\n",
      "- Triangles strip entropy: 12.132\n",
      "- Triangles strip average code bit length: 12.355\n",
      "- Triangles strip (in bytes): 12037\n",
      "- Quantized vertices entropy: 11.52060517733206\n",
      "- Quantized vertices average code bit length: 12.002\n",
      "- Quantized vertices (in bytes): 11265\n",
      "GTSQuantizator(radix binary tree packing) statistics:\n",
      "- Bytes per triangle: 4.70\n",
      "- Bytes per vertex: 9.32\n",
      "- Compression rate: 3.84\n"
     ]
    }
   ],
   "execution_count": 24
  },
  {
   "cell_type": "code",
   "source": [
    "packed_gts_encoder_fixed_packing = PackedGTSQuantizator(pack_strip=Packing.FIXED, verbose=True)\n",
    "packed_gts_encoder_fixed_packing_compressed_model = packed_gts_encoder_fixed_packing.encode(bunny_model)\n",
    "\n",
    "print_statistics(packed_gts_encoder_fixed_packing_compressed_model, \"PackedGTSQuantizator(fixed packing)\")"
   ],
   "metadata": {
    "collapsed": false,
    "ExecuteTime": {
     "end_time": "2025-06-03T13:44:00.624433Z",
     "start_time": "2025-06-03T11:20:12.398692Z"
    }
   },
   "id": "2228589776d93854",
   "outputs": [
    {
     "name": "stdout",
     "output_type": "stream",
     "text": [
      "GTSQuantizator verbose statistics:\n",
      "- Header (in bytes): 32\n",
      "- Triangles strip entropy: 12.822\n",
      "- Triangles strip average code bit length: 10.146\n",
      "- Triangles strip (in bytes): 9885\n",
      "- Quantized vertices entropy: 11.520605177332085\n",
      "- Quantized vertices average code bit length: 12.002\n",
      "- Quantized vertices (in bytes): 11265\n",
      "PackedGTSQuantizator(fixed packing) statistics:\n",
      "- Bytes per triangle: 4.26\n",
      "- Bytes per vertex: 8.46\n",
      "- Compression rate: 4.23\n"
     ]
    }
   ],
   "execution_count": 25
  },
  {
   "cell_type": "code",
   "source": [
    "packed_gts_encoder_radix_binary_tree_packing = PackedGTSQuantizator(pack_strip=Packing.RADIX_BINARY_TREE,\n",
    "                                                                    verbose=True)\n",
    "packed_gts_encoder_radix_binary_tree_packing_compressed_model = packed_gts_encoder_radix_binary_tree_packing.encode(\n",
    "    bunny_model)\n",
    "\n",
    "print_statistics(packed_gts_encoder_radix_binary_tree_packing_compressed_model,\n",
    "                 \"PackedGTSQuantizator(radix binary tree packing)\")"
   ],
   "metadata": {
    "collapsed": false,
    "ExecuteTime": {
     "end_time": "2025-06-03T13:44:00.624433Z",
     "start_time": "2025-06-03T11:20:13.890827Z"
    }
   },
   "id": "654b5666ccdca7",
   "outputs": [
    {
     "name": "stdout",
     "output_type": "stream",
     "text": [
      "GTSQuantizator verbose statistics:\n",
      "- Header (in bytes): 32\n",
      "- Triangles strip entropy: 12.822\n",
      "- Triangles strip average code bit length: 9.708\n",
      "- Triangles strip (in bytes): 9458\n",
      "- Quantized vertices entropy: 11.520605177332085\n",
      "- Quantized vertices average code bit length: 12.002\n",
      "- Quantized vertices (in bytes): 11265\n",
      "PackedGTSQuantizator(radix binary tree packing) statistics:\n",
      "- Bytes per triangle: 4.18\n",
      "- Bytes per vertex: 8.29\n",
      "- Compression rate: 4.32\n"
     ]
    }
   ],
   "execution_count": 26
  },
  {
   "cell_type": "code",
   "source": [
    "\n",
    "def show_and_save_bar_plots(compressed_models: List[CompressedModel]):\n",
    "    bytes_per_triangle = [model.bits_per_triangle / 8 for model in compressed_models]\n",
    "    compression_rate = [baseline_compressed_model.bits_per_vertex / model.bits_per_vertex for model in\n",
    "                        compressed_models]\n",
    "\n",
    "    # Create the histogram\n",
    "    plt.bar(list(range(len(bytes_per_triangle))), bytes_per_triangle)\n",
    "\n",
    "    # Add title and labels\n",
    "    plt.title('Encoder bytes per triangle comparison')\n",
    "    plt.xlabel('Solution')\n",
    "    plt.xticks(list(range(len(bytes_per_triangle))))\n",
    "    plt.ylabel('Bytes per triangle')\n",
    "\n",
    "    # Save the histogram as an image\n",
    "    plt.savefig('images/bytes_per_triangle_bar_plot.png')  # Save as PNG file\n",
    "    plt.show()  # Display the plot\n",
    "\n",
    "    # Create the histogram\n",
    "    plt.bar(list(range(len(compression_rate))), compression_rate)\n",
    "\n",
    "    # Add title and labels\n",
    "    plt.title('Encoders compression rate comparison')\n",
    "    plt.xlabel('Solution')\n",
    "    plt.xticks(list(range(len(compression_rate))))\n",
    "    plt.ylabel('Compression rate')\n",
    "\n",
    "    # Save the histogram as an image\n",
    "    plt.savefig('images/compression_rate_bar_plot.png')  # Save as PNG file\n",
    "    plt.show()  # Display the plot\n",
    "\n",
    "\n",
    "show_and_save_bar_plots([baseline_compressed_model, encoder_no_packing_compressed_model, encoder_fixed_packing_model,\n",
    "                         encoder_binary_range_partitioning_packing_compressed_model,\n",
    "                         encoder_binary_range_partitioning_packing_compressed_model,\n",
    "                         encoder_radix_binary_tree_packing_compressed_model,\n",
    "                         encoder_radix_binary_tree_packing_compressed_model, gts_encoder_fixed_packing_compressed_model,\n",
    "                         gts_encoder_radix_binary_tree_packing_compressed_model,\n",
    "                         packed_gts_encoder_fixed_packing_compressed_model,\n",
    "                         packed_gts_encoder_radix_binary_tree_packing_compressed_model,\n",
    "                         gts_parallelogram_predictor_huffman_encoder_compressed_model,\n",
    "                         gts_parallelogram_predictor_adaptive_huffman_encoder_compressed_model,\n",
    "                         gts_parallelogram_predictor_arithmetic_encoder_compressed_model,\n",
    "                         gts_parallelogram_predictor_adaptive_arithmetic_encoder_compressed_model,\n",
    "                         simple_ellipsoid_fitter_encoder_compressed_model,\n",
    "                         simple_ellipsoid_fitter_encoder4_compressed_model,\n",
    "                         packed_gts_ellipsoid_fitter_compressed_model,\n",
    "                         packed_gts_ellipsoid_fitter4_compressed_model,\n",
    "                         ])"
   ],
   "metadata": {
    "collapsed": false,
    "ExecuteTime": {
     "end_time": "2025-06-03T13:44:00.624433Z",
     "start_time": "2025-06-03T11:20:15.381678Z"
    }
   },
   "id": "2cf95befb550bcda",
   "outputs": [
    {
     "data": {
      "text/plain": [
       "<Figure size 640x480 with 1 Axes>"
      ],
      "image/png": "[encoded data removed]"
     },
     "metadata": {},
     "output_type": "display_data"
    },
    {
     "data": {
      "text/plain": [
       "<Figure size 640x480 with 1 Axes>"
      ],
      "image/png": "[encoded data removed]"
     },
     "metadata": {},
     "output_type": "display_data"
    }
   ],
   "execution_count": 27
  },
  {
   "metadata": {
    "ExecuteTime": {
     "end_time": "2025-06-03T13:44:00.624433Z",
     "start_time": "2025-06-03T09:58:02.338909Z"
    }
   },
   "cell_type": "code",
   "source": "",
   "id": "dca7e39980474282",
   "outputs": [],
   "execution_count": null
  }
 ],
 "metadata": {
  "kernelspec": {
   "display_name": "Python 3",
   "language": "python",
   "name": "python3"
  },
  "language_info": {
   "codemirror_mode": {
    "name": "ipython",
    "version": 2
   },
   "file_extension": ".py",
   "mimetype": "text/x-python",
   "name": "python",
   "nbconvert_exporter": "python",
   "pygments_lexer": "ipython2",
   "version": "2.7.6"
  }
 },
 "nbformat": 4,
 "nbformat_minor": 5
}
