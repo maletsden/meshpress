{
 "cells": [
  {
   "cell_type": "code",
   "outputs": [],
   "source": [
    "import numpy as np\n",
    "\n",
    "from reader import *\n",
    "from encoder import *\n",
    "\n",
    "bunny_model = Reader.read_from_file('assets/bunny.obj')\n",
    "\n",
    "def print_statistics(compressed_model, name):\n",
    "    print(f\"{name} statistics:\")\n",
    "    print(f\"- Bytes per triangle: {compressed_model.bits_per_triangle / 8:.2f}\")\n",
    "    print(f\"- Bytes per vertex: {compressed_model.bits_per_vertex / 8:.2f}\")\n"
   ],
   "metadata": {
    "collapsed": false,
    "ExecuteTime": {
     "end_time": "2024-11-08T18:43:39.709433Z",
     "start_time": "2024-11-08T18:43:39.681866Z"
    }
   },
   "id": "988d71a5cb46ce52",
   "execution_count": 3
  },
  {
   "cell_type": "code",
   "outputs": [
    {
     "name": "stdout",
     "output_type": "stream",
     "text": [
      "BaselineEncoder statistics:\n",
      "- Bytes per triangle: 18.05\n",
      "- Bytes per vertex: 35.82\n"
     ]
    }
   ],
   "source": [
    "baseline_encoder = BaselineEncoder()\n",
    "compressed_model = baseline_encoder.encode(bunny_model)\n",
    "\n",
    "print_statistics(compressed_model, \"BaselineEncoder\")"
   ],
   "metadata": {
    "collapsed": false,
    "ExecuteTime": {
     "end_time": "2024-11-08T18:43:39.715236Z",
     "start_time": "2024-11-08T18:43:39.710440Z"
    }
   },
   "id": "674ab0d6242ce702",
   "execution_count": 4
  },
  {
   "cell_type": "code",
   "outputs": [
    {
     "name": "stdout",
     "output_type": "stream",
     "text": [
      "SimpleQuantizator verbose statistics:\n",
      "- Header (in bytes): 32\n",
      "- Triangles strip entropy: 11.145377595306043\n",
      "- Triangles strip average code bit length: 32.0\n",
      "- Triangles strip (in bytes): 46344\n",
      "- Quantized vertices entropy: 11.52060517733206\n",
      "- Quantized vertices average code bit length: 12.00159808230124\n",
      "- Quantized vertices (in bytes): 11265\n",
      "SimpleQuantizator(no packing) statistics:\n",
      "- Bytes per triangle: 11.60\n",
      "- Bytes per vertex: 23.03\n"
     ]
    }
   ],
   "source": [
    "encoder_no_packing = SimpleQuantizator(pack_strip=Packing.NONE, verbose=True)\n",
    "compressed_model = encoder_no_packing.encode(bunny_model)\n",
    "\n",
    "print_statistics(compressed_model, \"SimpleQuantizator(no packing)\")"
   ],
   "metadata": {
    "collapsed": false,
    "ExecuteTime": {
     "end_time": "2024-11-08T18:43:42.565077Z",
     "start_time": "2024-11-08T18:43:39.715236Z"
    }
   },
   "id": "ba48a29c99cf8065",
   "execution_count": 5
  },
  {
   "cell_type": "code",
   "outputs": [
    {
     "name": "stdout",
     "output_type": "stream",
     "text": [
      "SimpleQuantizator verbose statistics:\n",
      "- Header (in bytes): 32\n",
      "- Triangles strip entropy: 11.145377595306043\n",
      "- Triangles strip average code bit length: 12.0\n",
      "- Triangles strip (in bytes): 17379\n",
      "- Quantized vertices entropy: 11.52060517733206\n",
      "- Quantized vertices average code bit length: 12.00159808230124\n",
      "- Quantized vertices (in bytes): 11265\n",
      "SimpleQuantizator(fixed packing) statistics:\n",
      "- Bytes per triangle: 5.77\n",
      "- Bytes per vertex: 11.46\n"
     ]
    }
   ],
   "source": [
    "encoder_fixed_packing = SimpleQuantizator(pack_strip=Packing.FIXED, verbose=True)\n",
    "compressed_model = encoder_fixed_packing.encode(bunny_model)\n",
    "\n",
    "print_statistics(compressed_model, \"SimpleQuantizator(fixed packing)\")"
   ],
   "metadata": {
    "collapsed": false,
    "ExecuteTime": {
     "end_time": "2024-11-08T18:43:45.178779Z",
     "start_time": "2024-11-08T18:43:42.565418Z"
    }
   },
   "id": "8eb8574a8947c069",
   "execution_count": 6
  },
  {
   "cell_type": "code",
   "outputs": [
    {
     "name": "stdout",
     "output_type": "stream",
     "text": [
      "SimpleQuantizator verbose statistics:\n",
      "- Header (in bytes): 32\n",
      "- Triangles strip entropy: 11.145377595306043\n",
      "- Triangles strip average code bit length: 11.709304332815467\n",
      "- Triangles strip (in bytes): 16958\n",
      "- Quantized vertices entropy: 11.52060517733206\n",
      "- Quantized vertices average code bit length: 12.00159808230124\n",
      "- Quantized vertices (in bytes): 11265\n",
      "SimpleQuantizator(binary range partitioning packing) statistics:\n",
      "- Bytes per triangle: 5.69\n",
      "- Bytes per vertex: 11.29\n"
     ]
    }
   ],
   "source": [
    "encoder_binary_range_partitioning_packing = SimpleQuantizator(pack_strip=Packing.BINARY_RANGE_PARTITIONING, verbose=True)\n",
    "compressed_model = encoder_binary_range_partitioning_packing.encode(bunny_model)\n",
    "\n",
    "print_statistics(compressed_model, \"SimpleQuantizator(binary range partitioning packing)\")"
   ],
   "metadata": {
    "collapsed": false,
    "ExecuteTime": {
     "end_time": "2024-11-08T18:43:47.821484Z",
     "start_time": "2024-11-08T18:43:45.178779Z"
    }
   },
   "id": "25b1d925777db53c",
   "execution_count": 7
  },
  {
   "cell_type": "code",
   "outputs": [
    {
     "name": "stdout",
     "output_type": "stream",
     "text": [
      "SimpleQuantizator verbose statistics:\n",
      "- Header (in bytes): 32\n",
      "- Triangles strip entropy: 11.145377595306043\n",
      "- Triangles strip average code bit length: 11.464871396513033\n",
      "- Triangles strip (in bytes): 16604\n",
      "- Quantized vertices entropy: 11.520605177332088\n",
      "- Quantized vertices average code bit length: 12.00159808230124\n",
      "- Quantized vertices (in bytes): 11265\n",
      "SimpleQuantizator(binary range partitioning packing, reordered) statistics:\n",
      "- Bytes per triangle: 5.62\n",
      "- Bytes per vertex: 11.15\n"
     ]
    }
   ],
   "source": [
    "encoder_binary_range_partitioning_packing = SimpleQuantizator(pack_strip=Packing.BINARY_RANGE_PARTITIONING, allow_reorder=True, verbose=True)\n",
    "compressed_model = encoder_binary_range_partitioning_packing.encode(bunny_model)\n",
    "\n",
    "print_statistics(compressed_model, \"SimpleQuantizator(binary range partitioning packing, reordered)\")"
   ],
   "metadata": {
    "collapsed": false,
    "ExecuteTime": {
     "end_time": "2024-11-08T18:43:50.503302Z",
     "start_time": "2024-11-08T18:43:47.821484Z"
    }
   },
   "id": "bd9053d5b8aec29d",
   "execution_count": 8
  },
  {
   "cell_type": "code",
   "outputs": [
    {
     "name": "stdout",
     "output_type": "stream",
     "text": [
      "SimpleQuantizator verbose statistics:\n",
      "- Header (in bytes): 32\n",
      "- Triangles strip entropy: 11.145377595306043\n",
      "- Triangles strip average code bit length: 11.362679095460038\n",
      "- Triangles strip (in bytes): 16456\n",
      "- Quantized vertices entropy: 11.52060517733206\n",
      "- Quantized vertices average code bit length: 12.00159808230124\n",
      "- Quantized vertices (in bytes): 11265\n",
      "SimpleQuantizator(radix binary tree packing) statistics:\n",
      "- Bytes per triangle: 5.59\n",
      "- Bytes per vertex: 11.09\n"
     ]
    }
   ],
   "source": [
    "encoder_radix_binary_tree_packing = SimpleQuantizator(pack_strip=Packing.RADIX_BINARY_TREE, verbose=True)\n",
    "compressed_model = encoder_radix_binary_tree_packing.encode(bunny_model)\n",
    "\n",
    "print_statistics(compressed_model, \"SimpleQuantizator(radix binary tree packing)\")"
   ],
   "metadata": {
    "collapsed": false,
    "ExecuteTime": {
     "end_time": "2024-11-08T18:43:53.217728Z",
     "start_time": "2024-11-08T18:43:50.503807Z"
    }
   },
   "id": "762f020ebbc94de9",
   "execution_count": 9
  },
  {
   "cell_type": "code",
   "outputs": [
    {
     "name": "stdout",
     "output_type": "stream",
     "text": [
      "SimpleQuantizator verbose statistics:\n",
      "- Header (in bytes): 32\n",
      "- Triangles strip entropy: 11.145377595306043\n",
      "- Triangles strip average code bit length: 11.208009666839288\n",
      "- Triangles strip (in bytes): 16232\n",
      "- Quantized vertices entropy: 11.5206051773321\n",
      "- Quantized vertices average code bit length: 12.00159808230124\n",
      "- Quantized vertices (in bytes): 11265\n",
      "SimpleQuantizator(radix binary tree packing, reordered) statistics:\n",
      "- Bytes per triangle: 5.54\n",
      "- Bytes per vertex: 11.00\n"
     ]
    }
   ],
   "source": [
    "encoder_radix_binary_tree_packing = SimpleQuantizator(pack_strip=Packing.RADIX_BINARY_TREE, allow_reorder=True, verbose=True)\n",
    "compressed_model = encoder_radix_binary_tree_packing.encode(bunny_model)\n",
    "\n",
    "print_statistics(compressed_model, \"SimpleQuantizator(radix binary tree packing, reordered)\")"
   ],
   "metadata": {
    "collapsed": false,
    "ExecuteTime": {
     "end_time": "2024-11-08T18:43:55.919915Z",
     "start_time": "2024-11-08T18:43:53.217728Z"
    }
   },
   "id": "bf387afbe3f60c27",
   "execution_count": 10
  },
  {
   "cell_type": "code",
   "outputs": [],
   "source": [],
   "metadata": {
    "collapsed": false,
    "ExecuteTime": {
     "start_time": "2024-11-08T18:43:58.766478Z"
    }
   },
   "id": "49ee8e19e1d5fea0"
  }
 ],
 "metadata": {
  "kernelspec": {
   "display_name": "Python 3",
   "language": "python",
   "name": "python3"
  },
  "language_info": {
   "codemirror_mode": {
    "name": "ipython",
    "version": 2
   },
   "file_extension": ".py",
   "mimetype": "text/x-python",
   "name": "python",
   "nbconvert_exporter": "python",
   "pygments_lexer": "ipython2",
   "version": "2.7.6"
  }
 },
 "nbformat": 4,
 "nbformat_minor": 5
}
