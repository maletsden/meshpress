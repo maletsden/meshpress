{
 "cells": [
  {
   "cell_type": "code",
   "source": [
    "import numpy as np\n",
    "\n",
    "from reader import *\n",
    "from encoder import *\n",
    "\n",
    "bunny_model = Reader.read_from_file('assets/bunny.obj')\n",
    "\n",
    "baseline_encoder = BaselineEncoder()\n",
    "baseline_compressed_model = baseline_encoder.encode(bunny_model)\n",
    "\n",
    "import matplotlib.pyplot as plt\n",
    "\n",
    "\n",
    "def print_statistics(compressed_model, name):\n",
    "    print(f\"{name} statistics:\")\n",
    "    print(f\"- Bytes per triangle: {compressed_model.bits_per_triangle / 8:.2f}\")\n",
    "    print(f\"- Bytes per vertex: {compressed_model.bits_per_vertex / 8:.2f}\")\n",
    "    print(f\"- Compression rate: {baseline_compressed_model.bits_per_vertex / compressed_model.bits_per_vertex:.2f}\")\n",
    "\n",
    "\n",
    "print_statistics(baseline_compressed_model, \"BaselineEncoder\")"
   ],
   "metadata": {
    "collapsed": false,
    "ExecuteTime": {
     "end_time": "2024-12-19T15:38:38.897454Z",
     "start_time": "2024-12-19T15:38:38.198728Z"
    }
   },
   "id": "988d71a5cb46ce52",
   "outputs": [
    {
     "name": "stdout",
     "output_type": "stream",
     "text": [
      "BaselineEncoder statistics:\n",
      "- Bytes per triangle: 18.05\n",
      "- Bytes per vertex: 35.82\n",
      "- Compression rate: 1.00\n"
     ]
    }
   ],
   "execution_count": 1
  },
  {
   "metadata": {
    "ExecuteTime": {
     "end_time": "2024-12-19T15:38:40.363355Z",
     "start_time": "2024-12-19T15:38:38.905537Z"
    }
   },
   "cell_type": "code",
   "source": [
    "gts_parallelogram_predictor_huffman_encoder = GTSParallelogramPredictor(pack_strip=Packing.RADIX_BINARY_TREE,\n",
    "                                                                        entropy_encoder_type=Packing.HUFFMAN_ENCODER,\n",
    "                                                                        enable_entropy_encoder_conditional_probabilities=False,\n",
    "                                                                        verbose=True)\n",
    "gts_parallelogram_predictor_huffman_encoder_compressed_model = gts_parallelogram_predictor_huffman_encoder.encode(\n",
    "    bunny_model)\n",
    "\n",
    "print_statistics(gts_parallelogram_predictor_huffman_encoder_compressed_model,\n",
    "                 \"GTSParallelogramPredictor(Huffman encoder)\")"
   ],
   "id": "8629ce2f3a0053a1",
   "outputs": [
    {
     "name": "stdout",
     "output_type": "stream",
     "text": [
      "GTSQuantizator verbose statistics:\n",
      "- Header (in bytes): 32\n",
      "- Triangles strip entropy: 12.822\n",
      "- Triangles strip average code bit length: 9.708\n",
      "- Triangles strip (in bytes): 9458\n",
      "- Quantized vertices entropy: 4.997038737229633\n",
      "- Quantized vertices average code bit length: 5.152\n",
      "- Quantized vertices (in bytes): 15059\n",
      "GTSParallelogramPredictor(Huffman encoder) statistics:\n",
      "- Bytes per triangle: 4.94\n",
      "- Bytes per vertex: 9.81\n",
      "- Compression rate: 3.65\n"
     ]
    }
   ],
   "execution_count": 2
  },
  {
   "metadata": {
    "ExecuteTime": {
     "end_time": "2024-12-19T15:38:51.500953Z",
     "start_time": "2024-12-19T15:38:40.500537Z"
    }
   },
   "cell_type": "code",
   "source": [
    "gts_parallelogram_predictor_adaptive_huffman_encoder = GTSParallelogramPredictor(pack_strip=Packing.RADIX_BINARY_TREE,\n",
    "                                                                        entropy_encoder_type=Packing.HUFFMAN_ENCODER,\n",
    "                                                                        enable_entropy_encoder_conditional_probabilities=True,\n",
    "                                                                        verbose=True)\n",
    "gts_parallelogram_predictor_adaptive_huffman_encoder_compressed_model = gts_parallelogram_predictor_adaptive_huffman_encoder.encode(\n",
    "    bunny_model)\n",
    "\n",
    "print_statistics(gts_parallelogram_predictor_adaptive_huffman_encoder_compressed_model,\n",
    "                 \"GTSParallelogramPredictor(adaptive Huffman encoder)\")"
   ],
   "id": "31ec71b8337f086b",
   "outputs": [
    {
     "name": "stdout",
     "output_type": "stream",
     "text": [
      "GTSQuantizator verbose statistics:\n",
      "- Header (in bytes): 32\n",
      "- Triangles strip entropy: 12.822\n",
      "- Triangles strip average code bit length: 9.708\n",
      "- Triangles strip (in bytes): 9458\n",
      "- Quantized vertices entropy: 4.997038737229633\n",
      "- Quantized vertices average code bit length: 5.118\n",
      "- Quantized vertices (in bytes): 14960\n",
      "GTSParallelogramPredictor(adaptive Huffman encoder) statistics:\n",
      "- Bytes per triangle: 4.92\n",
      "- Bytes per vertex: 9.77\n",
      "- Compression rate: 3.67\n"
     ]
    }
   ],
   "execution_count": 3
  },
  {
   "metadata": {
    "ExecuteTime": {
     "end_time": "2024-12-19T15:38:53.122656Z",
     "start_time": "2024-12-19T15:38:51.512363Z"
    }
   },
   "cell_type": "code",
   "source": [
    "gts_parallelogram_predictor_arithmetic_encoder = GTSParallelogramPredictor(pack_strip=Packing.RADIX_BINARY_TREE,\n",
    "                                                                           entropy_encoder_type=Packing.ARITHMETIC_ENCODER,\n",
    "                                                                           enable_entropy_encoder_conditional_probabilities=False,\n",
    "                                                                           verbose=True)\n",
    "gts_parallelogram_predictor_arithmetic_encoder_compressed_model = gts_parallelogram_predictor_arithmetic_encoder.encode(\n",
    "    bunny_model)\n",
    "\n",
    "print_statistics(gts_parallelogram_predictor_arithmetic_encoder_compressed_model,\n",
    "                 \"GTSParallelogramPredictor(arithmetic encoder)\")"
   ],
   "id": "28346cdfd94c8908",
   "outputs": [
    {
     "name": "stdout",
     "output_type": "stream",
     "text": [
      "GTSQuantizator verbose statistics:\n",
      "- Header (in bytes): 32\n",
      "- Triangles strip entropy: 12.822\n",
      "- Triangles strip average code bit length: 9.708\n",
      "- Triangles strip (in bytes): 9458\n"
     ]
    },
    {
     "name": "stderr",
     "output_type": "stream",
     "text": [
      "100%|██████████| 23383/23383 [00:00<00:00, 194482.94it/s]"
     ]
    },
    {
     "name": "stdout",
     "output_type": "stream",
     "text": [
      "- Quantized vertices entropy: 4.997038737229633\n",
      "- Quantized vertices average code bit length: 5.123\n",
      "- Quantized vertices (in bytes): 14973\n",
      "GTSParallelogramPredictor(arithmetic encoder) statistics:\n",
      "- Bytes per triangle: 4.92\n",
      "- Bytes per vertex: 9.77\n",
      "- Compression rate: 3.67\n"
     ]
    },
    {
     "name": "stderr",
     "output_type": "stream",
     "text": [
      "\n"
     ]
    }
   ],
   "execution_count": 4
  },
  {
   "metadata": {
    "ExecuteTime": {
     "end_time": "2024-12-19T15:38:55.510764Z",
     "start_time": "2024-12-19T15:38:53.147404Z"
    }
   },
   "cell_type": "code",
   "source": [
    "gts_parallelogram_predictor_adaptive_arithmetic_encoder = GTSParallelogramPredictor(pack_strip=Packing.RADIX_BINARY_TREE,\n",
    "                                                                           entropy_encoder_type=Packing.ARITHMETIC_ENCODER,\n",
    "                                                                           enable_entropy_encoder_conditional_probabilities=True,\n",
    "                                                                           verbose=True)\n",
    "gts_parallelogram_predictor_adaptive_arithmetic_encoder_compressed_model = gts_parallelogram_predictor_adaptive_arithmetic_encoder.encode(\n",
    "    bunny_model)\n",
    "\n",
    "print_statistics(gts_parallelogram_predictor_adaptive_arithmetic_encoder_compressed_model,\n",
    "                 \"GTSParallelogramPredictor(adaptive arithmetic encoder)\")"
   ],
   "id": "1e7b666656b17841",
   "outputs": [
    {
     "name": "stdout",
     "output_type": "stream",
     "text": [
      "GTSQuantizator verbose statistics:\n",
      "- Header (in bytes): 32\n",
      "- Triangles strip entropy: 12.822\n",
      "- Triangles strip average code bit length: 9.708\n",
      "- Triangles strip (in bytes): 9458\n"
     ]
    },
    {
     "name": "stderr",
     "output_type": "stream",
     "text": [
      "100%|██████████| 23383/23383 [00:00<00:00, 27449.53it/s]"
     ]
    },
    {
     "name": "stdout",
     "output_type": "stream",
     "text": [
      "- Quantized vertices entropy: 4.997038737229633\n",
      "- Quantized vertices average code bit length: 5.089\n",
      "- Quantized vertices (in bytes): 14875\n",
      "GTSParallelogramPredictor(adaptive arithmetic encoder) statistics:\n",
      "- Bytes per triangle: 4.90\n",
      "- Bytes per vertex: 9.73\n",
      "- Compression rate: 3.68\n"
     ]
    },
    {
     "name": "stderr",
     "output_type": "stream",
     "text": [
      "\n"
     ]
    }
   ],
   "execution_count": 5
  },
  {
   "cell_type": "code",
   "source": [
    "packed_gts_encoder_radix_binary_tree_packing = PackedGTSQuantizator(pack_strip=Packing.RADIX_BINARY_TREE, verbose=True)\n",
    "packed_gts_encoder_radix_binary_tree_packing_compressed_model = packed_gts_encoder_radix_binary_tree_packing.encode(\n",
    "    bunny_model)\n",
    "\n",
    "print_statistics(packed_gts_encoder_radix_binary_tree_packing_compressed_model,\n",
    "                 \"PackedGTSQuantizator(radix binary tree packing)\")"
   ],
   "metadata": {
    "collapsed": false,
    "ExecuteTime": {
     "end_time": "2024-12-19T15:38:56.997123Z",
     "start_time": "2024-12-19T15:38:55.516388Z"
    }
   },
   "id": "7dc72f5ecd0a3ebe",
   "outputs": [
    {
     "name": "stdout",
     "output_type": "stream",
     "text": [
      "GTSQuantizator verbose statistics:\n",
      "- Header (in bytes): 32\n",
      "- Triangles strip entropy: 12.822\n",
      "- Triangles strip average code bit length: 9.708\n",
      "- Triangles strip (in bytes): 9458\n",
      "- Quantized vertices entropy: 11.520605177332085\n",
      "- Quantized vertices average code bit length: 12.002\n",
      "- Quantized vertices (in bytes): 11265\n",
      "PackedGTSQuantizator(radix binary tree packing) statistics:\n",
      "- Bytes per triangle: 4.18\n",
      "- Bytes per vertex: 8.29\n",
      "- Compression rate: 4.32\n"
     ]
    }
   ],
   "execution_count": 6
  },
  {
   "cell_type": "code",
   "source": [
    "encoder_no_packing = SimpleQuantizator(pack_strip=Packing.NONE, verbose=True)\n",
    "encoder_no_packing_compressed_model = encoder_no_packing.encode(bunny_model)\n",
    "\n",
    "print_statistics(encoder_no_packing_compressed_model, \"SimpleQuantizator(no packing)\")"
   ],
   "metadata": {
    "collapsed": false,
    "ExecuteTime": {
     "end_time": "2024-12-19T15:38:59.786560Z",
     "start_time": "2024-12-19T15:38:57.008560Z"
    }
   },
   "id": "ba48a29c99cf8065",
   "outputs": [
    {
     "name": "stdout",
     "output_type": "stream",
     "text": [
      "SimpleQuantizator verbose statistics:\n",
      "- Header (in bytes): 32\n",
      "- Triangles strip entropy: 11.145\n",
      "- Triangles strip average code bit length: 32.000\n",
      "- Triangles strip (in bytes): 46344\n",
      "- Quantized vertices entropy: 11.52060517733206\n",
      "- Quantized vertices average code bit length: 12.002\n",
      "- Quantized vertices (in bytes): 11265\n",
      "SimpleQuantizator(no packing) statistics:\n",
      "- Bytes per triangle: 11.60\n",
      "- Bytes per vertex: 23.03\n",
      "- Compression rate: 1.56\n"
     ]
    }
   ],
   "execution_count": 7
  },
  {
   "cell_type": "code",
   "source": [
    "encoder_fixed_packing = SimpleQuantizator(pack_strip=Packing.FIXED, verbose=True)\n",
    "encoder_fixed_packing_model = encoder_fixed_packing.encode(bunny_model)\n",
    "\n",
    "print_statistics(encoder_fixed_packing_model, \"SimpleQuantizator(fixed packing)\")"
   ],
   "metadata": {
    "collapsed": false,
    "ExecuteTime": {
     "end_time": "2024-12-19T15:39:02.570279Z",
     "start_time": "2024-12-19T15:38:59.799846Z"
    }
   },
   "id": "8eb8574a8947c069",
   "outputs": [
    {
     "name": "stdout",
     "output_type": "stream",
     "text": [
      "SimpleQuantizator verbose statistics:\n",
      "- Header (in bytes): 32\n",
      "- Triangles strip entropy: 11.145\n",
      "- Triangles strip average code bit length: 12.000\n",
      "- Triangles strip (in bytes): 17379\n",
      "- Quantized vertices entropy: 11.52060517733206\n",
      "- Quantized vertices average code bit length: 12.002\n",
      "- Quantized vertices (in bytes): 11265\n",
      "SimpleQuantizator(fixed packing) statistics:\n",
      "- Bytes per triangle: 5.77\n",
      "- Bytes per vertex: 11.46\n",
      "- Compression rate: 3.13\n"
     ]
    }
   ],
   "execution_count": 8
  },
  {
   "cell_type": "code",
   "source": [
    "encoder_binary_range_partitioning_packing = SimpleQuantizator(pack_strip=Packing.BINARY_RANGE_PARTITIONING,\n",
    "                                                              verbose=True)\n",
    "encoder_binary_range_partitioning_packing_compressed_model = encoder_binary_range_partitioning_packing.encode(\n",
    "    bunny_model)\n",
    "\n",
    "print_statistics(encoder_binary_range_partitioning_packing_compressed_model,\n",
    "                 \"SimpleQuantizator(binary range partitioning packing)\")"
   ],
   "metadata": {
    "collapsed": false,
    "ExecuteTime": {
     "end_time": "2024-12-19T15:39:05.378254Z",
     "start_time": "2024-12-19T15:39:02.582838Z"
    }
   },
   "id": "25b1d925777db53c",
   "outputs": [
    {
     "name": "stdout",
     "output_type": "stream",
     "text": [
      "SimpleQuantizator verbose statistics:\n",
      "- Header (in bytes): 32\n",
      "- Triangles strip entropy: 11.145\n",
      "- Triangles strip average code bit length: 11.709\n",
      "- Triangles strip (in bytes): 16958\n",
      "- Quantized vertices entropy: 11.52060517733206\n",
      "- Quantized vertices average code bit length: 12.002\n",
      "- Quantized vertices (in bytes): 11265\n",
      "SimpleQuantizator(binary range partitioning packing) statistics:\n",
      "- Bytes per triangle: 5.69\n",
      "- Bytes per vertex: 11.29\n",
      "- Compression rate: 3.17\n"
     ]
    }
   ],
   "execution_count": 9
  },
  {
   "cell_type": "code",
   "source": [
    "encoder_binary_range_partitioning_packing = SimpleQuantizator(pack_strip=Packing.BINARY_RANGE_PARTITIONING,\n",
    "                                                              allow_reorder=True, verbose=True)\n",
    "encoder_binary_range_partitioning_packing_compressed_model = encoder_binary_range_partitioning_packing.encode(\n",
    "    bunny_model)\n",
    "\n",
    "print_statistics(encoder_binary_range_partitioning_packing_compressed_model,\n",
    "                 \"SimpleQuantizator(binary range partitioning packing, reordered)\")"
   ],
   "metadata": {
    "collapsed": false,
    "ExecuteTime": {
     "end_time": "2024-12-19T15:39:08.365575Z",
     "start_time": "2024-12-19T15:39:05.391573Z"
    }
   },
   "id": "bd9053d5b8aec29d",
   "outputs": [
    {
     "name": "stdout",
     "output_type": "stream",
     "text": [
      "SimpleQuantizator verbose statistics:\n",
      "- Header (in bytes): 32\n",
      "- Triangles strip entropy: 11.145\n",
      "- Triangles strip average code bit length: 11.465\n",
      "- Triangles strip (in bytes): 16604\n",
      "- Quantized vertices entropy: 11.520605177332088\n",
      "- Quantized vertices average code bit length: 12.002\n",
      "- Quantized vertices (in bytes): 11265\n",
      "SimpleQuantizator(binary range partitioning packing, reordered) statistics:\n",
      "- Bytes per triangle: 5.62\n",
      "- Bytes per vertex: 11.15\n",
      "- Compression rate: 3.21\n"
     ]
    }
   ],
   "execution_count": 10
  },
  {
   "cell_type": "code",
   "source": [
    "encoder_radix_binary_tree_packing = SimpleQuantizator(pack_strip=Packing.RADIX_BINARY_TREE, verbose=True)\n",
    "encoder_radix_binary_tree_packing_compressed_model = encoder_radix_binary_tree_packing.encode(bunny_model)\n",
    "\n",
    "print_statistics(encoder_radix_binary_tree_packing_compressed_model, \"SimpleQuantizator(radix binary tree packing)\")"
   ],
   "metadata": {
    "collapsed": false,
    "ExecuteTime": {
     "end_time": "2024-12-19T15:39:11.109991Z",
     "start_time": "2024-12-19T15:39:08.379344Z"
    }
   },
   "id": "762f020ebbc94de9",
   "outputs": [
    {
     "name": "stdout",
     "output_type": "stream",
     "text": [
      "SimpleQuantizator verbose statistics:\n",
      "- Header (in bytes): 32\n",
      "- Triangles strip entropy: 11.145\n",
      "- Triangles strip average code bit length: 11.363\n",
      "- Triangles strip (in bytes): 16456\n",
      "- Quantized vertices entropy: 11.52060517733206\n",
      "- Quantized vertices average code bit length: 12.002\n",
      "- Quantized vertices (in bytes): 11265\n",
      "SimpleQuantizator(radix binary tree packing) statistics:\n",
      "- Bytes per triangle: 5.59\n",
      "- Bytes per vertex: 11.09\n",
      "- Compression rate: 3.23\n"
     ]
    }
   ],
   "execution_count": 11
  },
  {
   "cell_type": "code",
   "source": [
    "encoder_radix_binary_tree_packing = SimpleQuantizator(pack_strip=Packing.RADIX_BINARY_TREE, allow_reorder=True,\n",
    "                                                      verbose=True)\n",
    "encoder_radix_binary_tree_packing_compressed_model = encoder_radix_binary_tree_packing.encode(bunny_model)\n",
    "\n",
    "print_statistics(encoder_radix_binary_tree_packing_compressed_model,\n",
    "                 \"SimpleQuantizator(radix binary tree packing, reordered)\")"
   ],
   "metadata": {
    "collapsed": false,
    "ExecuteTime": {
     "end_time": "2024-12-19T15:39:13.898694Z",
     "start_time": "2024-12-19T15:39:11.123422Z"
    }
   },
   "id": "bf387afbe3f60c27",
   "outputs": [
    {
     "name": "stdout",
     "output_type": "stream",
     "text": [
      "SimpleQuantizator verbose statistics:\n",
      "- Header (in bytes): 32\n",
      "- Triangles strip entropy: 11.145\n",
      "- Triangles strip average code bit length: 11.208\n",
      "- Triangles strip (in bytes): 16232\n",
      "- Quantized vertices entropy: 11.5206051773321\n",
      "- Quantized vertices average code bit length: 12.002\n",
      "- Quantized vertices (in bytes): 11265\n",
      "SimpleQuantizator(radix binary tree packing, reordered) statistics:\n",
      "- Bytes per triangle: 5.54\n",
      "- Bytes per vertex: 11.00\n",
      "- Compression rate: 3.26\n"
     ]
    }
   ],
   "execution_count": 12
  },
  {
   "cell_type": "code",
   "source": [
    "gts_encoder_fixed_packing = GTSQuantizator(pack_strip=Packing.FIXED, verbose=True)\n",
    "gts_encoder_fixed_packing_compressed_model = gts_encoder_fixed_packing.encode(bunny_model)\n",
    "\n",
    "print_statistics(gts_encoder_fixed_packing_compressed_model, \"GTSQuantizator(fixed packing)\")"
   ],
   "metadata": {
    "collapsed": false,
    "ExecuteTime": {
     "end_time": "2024-12-19T15:39:15.387802Z",
     "start_time": "2024-12-19T15:39:13.912016Z"
    }
   },
   "id": "fb18c1377d73d06c",
   "outputs": [
    {
     "name": "stdout",
     "output_type": "stream",
     "text": [
      "GTSQuantizator verbose statistics:\n",
      "- Header (in bytes): 32\n",
      "- Triangles strip entropy: 12.132\n",
      "- Triangles strip average code bit length: 13.000\n",
      "- Triangles strip (in bytes): 12665\n",
      "- Quantized vertices entropy: 11.52060517733206\n",
      "- Quantized vertices average code bit length: 12.002\n",
      "- Quantized vertices (in bytes): 11265\n",
      "GTSQuantizator(fixed packing) statistics:\n",
      "- Bytes per triangle: 4.82\n",
      "- Bytes per vertex: 9.57\n",
      "- Compression rate: 3.74\n"
     ]
    }
   ],
   "execution_count": 13
  },
  {
   "cell_type": "code",
   "source": [
    "gts_encoder_radix_binary_tree_packing = GTSQuantizator(pack_strip=Packing.RADIX_BINARY_TREE, verbose=True)\n",
    "gts_encoder_radix_binary_tree_packing_compressed_model = gts_encoder_radix_binary_tree_packing.encode(bunny_model)\n",
    "\n",
    "print_statistics(gts_encoder_radix_binary_tree_packing_compressed_model, \"GTSQuantizator(radix binary tree packing)\")"
   ],
   "metadata": {
    "collapsed": false,
    "ExecuteTime": {
     "end_time": "2024-12-19T15:39:16.885889Z",
     "start_time": "2024-12-19T15:39:15.400539Z"
    }
   },
   "id": "d86a1400546bcb91",
   "outputs": [
    {
     "name": "stdout",
     "output_type": "stream",
     "text": [
      "GTSQuantizator verbose statistics:\n",
      "- Header (in bytes): 32\n",
      "- Triangles strip entropy: 12.132\n",
      "- Triangles strip average code bit length: 12.355\n",
      "- Triangles strip (in bytes): 12037\n",
      "- Quantized vertices entropy: 11.52060517733206\n",
      "- Quantized vertices average code bit length: 12.002\n",
      "- Quantized vertices (in bytes): 11265\n",
      "GTSQuantizator(radix binary tree packing) statistics:\n",
      "- Bytes per triangle: 4.70\n",
      "- Bytes per vertex: 9.32\n",
      "- Compression rate: 3.84\n"
     ]
    }
   ],
   "execution_count": 14
  },
  {
   "cell_type": "code",
   "source": [
    "packed_gts_encoder_fixed_packing = PackedGTSQuantizator(pack_strip=Packing.FIXED, verbose=True)\n",
    "packed_gts_encoder_fixed_packing_compressed_model = packed_gts_encoder_fixed_packing.encode(bunny_model)\n",
    "\n",
    "print_statistics(packed_gts_encoder_fixed_packing_compressed_model, \"PackedGTSQuantizator(fixed packing)\")"
   ],
   "metadata": {
    "collapsed": false,
    "ExecuteTime": {
     "end_time": "2024-12-19T15:39:18.403099Z",
     "start_time": "2024-12-19T15:39:16.900212Z"
    }
   },
   "id": "2228589776d93854",
   "outputs": [
    {
     "name": "stdout",
     "output_type": "stream",
     "text": [
      "GTSQuantizator verbose statistics:\n",
      "- Header (in bytes): 32\n",
      "- Triangles strip entropy: 12.822\n",
      "- Triangles strip average code bit length: 10.146\n",
      "- Triangles strip (in bytes): 9885\n",
      "- Quantized vertices entropy: 11.520605177332085\n",
      "- Quantized vertices average code bit length: 12.002\n",
      "- Quantized vertices (in bytes): 11265\n",
      "PackedGTSQuantizator(fixed packing) statistics:\n",
      "- Bytes per triangle: 4.26\n",
      "- Bytes per vertex: 8.46\n",
      "- Compression rate: 4.23\n"
     ]
    }
   ],
   "execution_count": 15
  },
  {
   "cell_type": "code",
   "source": [
    "packed_gts_encoder_radix_binary_tree_packing = PackedGTSQuantizator(pack_strip=Packing.RADIX_BINARY_TREE, verbose=True)\n",
    "packed_gts_encoder_radix_binary_tree_packing_compressed_model = packed_gts_encoder_radix_binary_tree_packing.encode(\n",
    "    bunny_model)\n",
    "\n",
    "print_statistics(packed_gts_encoder_radix_binary_tree_packing_compressed_model,\n",
    "                 \"PackedGTSQuantizator(radix binary tree packing)\")"
   ],
   "metadata": {
    "collapsed": false,
    "ExecuteTime": {
     "end_time": "2024-12-19T15:39:19.900254Z",
     "start_time": "2024-12-19T15:39:18.417363Z"
    }
   },
   "id": "654b5666ccdca7",
   "outputs": [
    {
     "name": "stdout",
     "output_type": "stream",
     "text": [
      "GTSQuantizator verbose statistics:\n",
      "- Header (in bytes): 32\n",
      "- Triangles strip entropy: 12.822\n",
      "- Triangles strip average code bit length: 9.708\n",
      "- Triangles strip (in bytes): 9458\n",
      "- Quantized vertices entropy: 11.520605177332085\n",
      "- Quantized vertices average code bit length: 12.002\n",
      "- Quantized vertices (in bytes): 11265\n",
      "PackedGTSQuantizator(radix binary tree packing) statistics:\n",
      "- Bytes per triangle: 4.18\n",
      "- Bytes per vertex: 8.29\n",
      "- Compression rate: 4.32\n"
     ]
    }
   ],
   "execution_count": 16
  },
  {
   "cell_type": "code",
   "source": [
    "\n",
    "def show_and_save_bar_plots(compressed_models: List[CompressedModel]):\n",
    "    bytes_per_triangle = [model.bits_per_triangle / 8 for model in compressed_models]\n",
    "    compression_rate = [baseline_compressed_model.bits_per_vertex / model.bits_per_vertex for model in\n",
    "                        compressed_models]\n",
    "\n",
    "    # Create the histogram\n",
    "    plt.bar(list(range(len(bytes_per_triangle))), bytes_per_triangle)\n",
    "\n",
    "    # Add title and labels\n",
    "    plt.title('Encoder bytes per triangle comparison')\n",
    "    plt.xlabel('Solution')\n",
    "    plt.xticks(list(range(len(bytes_per_triangle))))\n",
    "    plt.ylabel('Bytes per triangle')\n",
    "\n",
    "    # Save the histogram as an image\n",
    "    plt.savefig('images/bytes_per_triangle_bar_plot.png')  # Save as PNG file\n",
    "    plt.show()  # Display the plot\n",
    "\n",
    "    # Create the histogram\n",
    "    plt.bar(list(range(len(compression_rate))), compression_rate)\n",
    "\n",
    "    # Add title and labels\n",
    "    plt.title('Encoders compression rate comparison')\n",
    "    plt.xlabel('Solution')\n",
    "    plt.xticks(list(range(len(compression_rate))))\n",
    "    plt.ylabel('Compression rate')\n",
    "\n",
    "    # Save the histogram as an image\n",
    "    plt.savefig('images/compression_rate_bar_plot.png')  # Save as PNG file\n",
    "    plt.show()  # Display the plot\n",
    "    \n",
    "\n",
    "show_and_save_bar_plots([baseline_compressed_model, encoder_no_packing_compressed_model, encoder_fixed_packing_model,\n",
    "                         encoder_binary_range_partitioning_packing_compressed_model,\n",
    "                         encoder_binary_range_partitioning_packing_compressed_model,\n",
    "                         encoder_radix_binary_tree_packing_compressed_model,\n",
    "                         encoder_radix_binary_tree_packing_compressed_model, gts_encoder_fixed_packing_compressed_model,\n",
    "                         gts_encoder_radix_binary_tree_packing_compressed_model,\n",
    "                         packed_gts_encoder_fixed_packing_compressed_model,\n",
    "                         packed_gts_encoder_radix_binary_tree_packing_compressed_model,\n",
    "                         gts_parallelogram_predictor_huffman_encoder_compressed_model,\n",
    "                         gts_parallelogram_predictor_adaptive_huffman_encoder_compressed_model,\n",
    "                         gts_parallelogram_predictor_arithmetic_encoder_compressed_model,\n",
    "                         gts_parallelogram_predictor_adaptive_arithmetic_encoder_compressed_model,\n",
    "                         ])"
   ],
   "metadata": {
    "collapsed": false,
    "ExecuteTime": {
     "end_time": "2024-12-19T15:39:56.288512Z",
     "start_time": "2024-12-19T15:39:55.978666Z"
    }
   },
   "id": "2cf95befb550bcda",
   "outputs": [
    {
     "data": {
      "text/plain": [
       "<Figure size 640x480 with 1 Axes>"
      ],
      "image/png": "[encoded data removed]"
     },
     "metadata": {},
     "output_type": "display_data"
    },
    {
     "data": {
      "text/plain": [
       "<Figure size 640x480 with 1 Axes>"
      ],
      "image/png": "[encoded data removed]"
     },
     "metadata": {},
     "output_type": "display_data"
    }
   ],
   "execution_count": 19
  },
  {
   "cell_type": "code",
   "outputs": [],
   "source": [],
   "metadata": {
    "collapsed": false,
    "ExecuteTime": {
     "end_time": "2024-12-19T15:22:49.949205100Z",
     "start_time": "2024-11-14T10:03:25.099109Z"
    }
   },
   "id": "92263e45824f3367",
   "execution_count": 13
  }
 ],
 "metadata": {
  "kernelspec": {
   "display_name": "Python 3",
   "language": "python",
   "name": "python3"
  },
  "language_info": {
   "codemirror_mode": {
    "name": "ipython",
    "version": 2
   },
   "file_extension": ".py",
   "mimetype": "text/x-python",
   "name": "python",
   "nbconvert_exporter": "python",
   "pygments_lexer": "ipython2",
   "version": "2.7.6"
  }
 },
 "nbformat": 4,
 "nbformat_minor": 5
}
