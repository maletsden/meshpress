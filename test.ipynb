{
 "cells": [
  {
   "cell_type": "code",
   "outputs": [
    {
     "name": "stdout",
     "output_type": "stream",
     "text": [
      "BaselineEncoder statistics:\n",
      "- Bytes per triangle: 18.05\n",
      "- Bytes per vertex: 35.82\n",
      "- Compression rate: 1.00\n"
     ]
    }
   ],
   "source": [
    "import numpy as np\n",
    "\n",
    "from reader import *\n",
    "from encoder import *\n",
    "\n",
    "bunny_model = Reader.read_from_file('assets/bunny.obj')\n",
    "\n",
    "\n",
    "\n",
    "baseline_encoder = BaselineEncoder()\n",
    "baseline_compressed_model = baseline_encoder.encode(bunny_model)\n",
    "\n",
    "\n",
    "def print_statistics(compressed_model, name):\n",
    "    print(f\"{name} statistics:\")\n",
    "    print(f\"- Bytes per triangle: {compressed_model.bits_per_triangle / 8:.2f}\")\n",
    "    print(f\"- Bytes per vertex: {compressed_model.bits_per_vertex / 8:.2f}\")\n",
    "    print(f\"- Compression rate: {baseline_compressed_model.bits_per_vertex / compressed_model.bits_per_vertex:.2f}\")\n",
    "\n",
    "print_statistics(baseline_compressed_model, \"BaselineEncoder\")"
   ],
   "metadata": {
    "collapsed": false,
    "ExecuteTime": {
     "end_time": "2024-11-13T09:52:34.138287Z",
     "start_time": "2024-11-13T09:52:34.042193Z"
    }
   },
   "id": "988d71a5cb46ce52",
   "execution_count": 1
  },
  {
   "cell_type": "code",
   "outputs": [],
   "source": [
    "# triangle_list = [\n",
    "#     (0, 1, 2), (2, 1, 3), (2, 3, 4),\n",
    "#     (2, 4, 5), (2, 5, 0), (0, 5, 6),\n",
    "#     (0, 6, 7), (0, 7, 8), (0, 8, 1),\n",
    "#     (1, 8, 9)\n",
    "# ]"
   ],
   "metadata": {
    "collapsed": false,
    "ExecuteTime": {
     "end_time": "2024-11-13T09:52:34.141305Z",
     "start_time": "2024-11-13T09:52:34.139294Z"
    }
   },
   "id": "85d59e43b6af0e65",
   "execution_count": 2
  },
  {
   "cell_type": "code",
   "outputs": [
    {
     "name": "stdout",
     "output_type": "stream",
     "text": [
      "SimpleQuantizator verbose statistics:\n",
      "- Header (in bytes): 32\n",
      "- Triangles strip entropy: 11.145\n",
      "- Triangles strip average code bit length: 32.000\n",
      "- Triangles strip (in bytes): 46344\n",
      "- Quantized vertices entropy: 11.52060517733206\n",
      "- Quantized vertices average code bit length: 12.002\n",
      "- Quantized vertices (in bytes): 11265\n",
      "SimpleQuantizator(no packing) statistics:\n",
      "- Bytes per triangle: 11.60\n",
      "- Bytes per vertex: 23.03\n",
      "- Compression rate: 1.56\n"
     ]
    }
   ],
   "source": [
    "encoder_no_packing = SimpleQuantizator(pack_strip=Packing.NONE, verbose=True)\n",
    "compressed_model = encoder_no_packing.encode(bunny_model)\n",
    "\n",
    "print_statistics(compressed_model, \"SimpleQuantizator(no packing)\")"
   ],
   "metadata": {
    "collapsed": false,
    "ExecuteTime": {
     "end_time": "2024-11-13T09:52:36.890568Z",
     "start_time": "2024-11-13T09:52:34.141305Z"
    }
   },
   "id": "ba48a29c99cf8065",
   "execution_count": 3
  },
  {
   "cell_type": "code",
   "outputs": [
    {
     "name": "stdout",
     "output_type": "stream",
     "text": [
      "SimpleQuantizator verbose statistics:\n",
      "- Header (in bytes): 32\n",
      "- Triangles strip entropy: 11.145\n",
      "- Triangles strip average code bit length: 12.000\n",
      "- Triangles strip (in bytes): 17379\n",
      "- Quantized vertices entropy: 11.52060517733206\n",
      "- Quantized vertices average code bit length: 12.002\n",
      "- Quantized vertices (in bytes): 11265\n",
      "SimpleQuantizator(fixed packing) statistics:\n",
      "- Bytes per triangle: 5.77\n",
      "- Bytes per vertex: 11.46\n",
      "- Compression rate: 3.13\n"
     ]
    }
   ],
   "source": [
    "encoder_fixed_packing = SimpleQuantizator(pack_strip=Packing.FIXED, verbose=True)\n",
    "compressed_model = encoder_fixed_packing.encode(bunny_model)\n",
    "\n",
    "print_statistics(compressed_model, \"SimpleQuantizator(fixed packing)\")"
   ],
   "metadata": {
    "collapsed": false,
    "ExecuteTime": {
     "end_time": "2024-11-13T09:52:39.733471Z",
     "start_time": "2024-11-13T09:52:36.891075Z"
    }
   },
   "id": "8eb8574a8947c069",
   "execution_count": 4
  },
  {
   "cell_type": "code",
   "outputs": [
    {
     "name": "stdout",
     "output_type": "stream",
     "text": [
      "SimpleQuantizator verbose statistics:\n",
      "- Header (in bytes): 32\n",
      "- Triangles strip entropy: 11.145\n",
      "- Triangles strip average code bit length: 11.709\n",
      "- Triangles strip (in bytes): 16958\n",
      "- Quantized vertices entropy: 11.52060517733206\n",
      "- Quantized vertices average code bit length: 12.002\n",
      "- Quantized vertices (in bytes): 11265\n",
      "SimpleQuantizator(binary range partitioning packing) statistics:\n",
      "- Bytes per triangle: 5.69\n",
      "- Bytes per vertex: 11.29\n",
      "- Compression rate: 3.17\n"
     ]
    }
   ],
   "source": [
    "encoder_binary_range_partitioning_packing = SimpleQuantizator(pack_strip=Packing.BINARY_RANGE_PARTITIONING,\n",
    "                                                              verbose=True)\n",
    "compressed_model = encoder_binary_range_partitioning_packing.encode(bunny_model)\n",
    "\n",
    "print_statistics(compressed_model, \"SimpleQuantizator(binary range partitioning packing)\")"
   ],
   "metadata": {
    "collapsed": false,
    "ExecuteTime": {
     "end_time": "2024-11-13T09:52:42.542481Z",
     "start_time": "2024-11-13T09:52:39.733471Z"
    }
   },
   "id": "25b1d925777db53c",
   "execution_count": 5
  },
  {
   "cell_type": "code",
   "outputs": [
    {
     "name": "stdout",
     "output_type": "stream",
     "text": [
      "SimpleQuantizator verbose statistics:\n",
      "- Header (in bytes): 32\n",
      "- Triangles strip entropy: 11.145\n",
      "- Triangles strip average code bit length: 11.465\n",
      "- Triangles strip (in bytes): 16604\n",
      "- Quantized vertices entropy: 11.520605177332088\n",
      "- Quantized vertices average code bit length: 12.002\n",
      "- Quantized vertices (in bytes): 11265\n",
      "SimpleQuantizator(binary range partitioning packing, reordered) statistics:\n",
      "- Bytes per triangle: 5.62\n",
      "- Bytes per vertex: 11.15\n",
      "- Compression rate: 3.21\n"
     ]
    }
   ],
   "source": [
    "encoder_binary_range_partitioning_packing = SimpleQuantizator(pack_strip=Packing.BINARY_RANGE_PARTITIONING,\n",
    "                                                              allow_reorder=True, verbose=True)\n",
    "compressed_model = encoder_binary_range_partitioning_packing.encode(bunny_model)\n",
    "\n",
    "print_statistics(compressed_model, \"SimpleQuantizator(binary range partitioning packing, reordered)\")"
   ],
   "metadata": {
    "collapsed": false,
    "ExecuteTime": {
     "end_time": "2024-11-13T09:52:45.271815Z",
     "start_time": "2024-11-13T09:52:42.542481Z"
    }
   },
   "id": "bd9053d5b8aec29d",
   "execution_count": 6
  },
  {
   "cell_type": "code",
   "outputs": [
    {
     "name": "stdout",
     "output_type": "stream",
     "text": [
      "SimpleQuantizator verbose statistics:\n",
      "- Header (in bytes): 32\n",
      "- Triangles strip entropy: 11.145\n",
      "- Triangles strip average code bit length: 11.363\n",
      "- Triangles strip (in bytes): 16456\n",
      "- Quantized vertices entropy: 11.52060517733206\n",
      "- Quantized vertices average code bit length: 12.002\n",
      "- Quantized vertices (in bytes): 11265\n",
      "SimpleQuantizator(radix binary tree packing) statistics:\n",
      "- Bytes per triangle: 5.59\n",
      "- Bytes per vertex: 11.09\n",
      "- Compression rate: 3.23\n"
     ]
    }
   ],
   "source": [
    "encoder_radix_binary_tree_packing = SimpleQuantizator(pack_strip=Packing.RADIX_BINARY_TREE, verbose=True)\n",
    "compressed_model = encoder_radix_binary_tree_packing.encode(bunny_model)\n",
    "\n",
    "print_statistics(compressed_model, \"SimpleQuantizator(radix binary tree packing)\")"
   ],
   "metadata": {
    "collapsed": false,
    "ExecuteTime": {
     "end_time": "2024-11-13T09:52:47.976056Z",
     "start_time": "2024-11-13T09:52:45.271895Z"
    }
   },
   "id": "762f020ebbc94de9",
   "execution_count": 7
  },
  {
   "cell_type": "code",
   "outputs": [
    {
     "name": "stdout",
     "output_type": "stream",
     "text": [
      "SimpleQuantizator verbose statistics:\n",
      "- Header (in bytes): 32\n",
      "- Triangles strip entropy: 11.145\n",
      "- Triangles strip average code bit length: 11.208\n",
      "- Triangles strip (in bytes): 16232\n",
      "- Quantized vertices entropy: 11.5206051773321\n",
      "- Quantized vertices average code bit length: 12.002\n",
      "- Quantized vertices (in bytes): 11265\n",
      "SimpleQuantizator(radix binary tree packing, reordered) statistics:\n",
      "- Bytes per triangle: 5.54\n",
      "- Bytes per vertex: 11.00\n",
      "- Compression rate: 3.26\n"
     ]
    }
   ],
   "source": [
    "encoder_radix_binary_tree_packing = SimpleQuantizator(pack_strip=Packing.RADIX_BINARY_TREE, allow_reorder=True,\n",
    "                                                      verbose=True)\n",
    "compressed_model = encoder_radix_binary_tree_packing.encode(bunny_model)\n",
    "\n",
    "print_statistics(compressed_model, \"SimpleQuantizator(radix binary tree packing, reordered)\")"
   ],
   "metadata": {
    "collapsed": false,
    "ExecuteTime": {
     "end_time": "2024-11-13T09:52:50.721075Z",
     "start_time": "2024-11-13T09:52:47.976564Z"
    }
   },
   "id": "bf387afbe3f60c27",
   "execution_count": 8
  },
  {
   "cell_type": "code",
   "outputs": [
    {
     "name": "stdout",
     "output_type": "stream",
     "text": [
      "SimpleQuantizator verbose statistics:\n",
      "- Header (in bytes): 32\n",
      "- Triangles strip entropy: 12.132\n",
      "- Triangles strip average code bit length: 13.000\n",
      "- Triangles strip (in bytes): 12665\n",
      "- Quantized vertices entropy: 11.52060517733206\n",
      "- Quantized vertices average code bit length: 12.002\n",
      "- Quantized vertices (in bytes): 11265\n",
      "GTSQuantizator(fixed packing) statistics:\n",
      "- Bytes per triangle: 4.82\n",
      "- Bytes per vertex: 9.57\n",
      "- Compression rate: 3.74\n"
     ]
    }
   ],
   "source": [
    "gts_encoder_fixed_packing = GTSQuantizator(pack_strip=Packing.FIXED, verbose=True)\n",
    "compressed_model = gts_encoder_fixed_packing.encode(bunny_model)\n",
    "\n",
    "print_statistics(compressed_model, \"GTSQuantizator(fixed packing)\")"
   ],
   "metadata": {
    "collapsed": false,
    "ExecuteTime": {
     "end_time": "2024-11-13T09:52:56.044136Z",
     "start_time": "2024-11-13T09:52:54.527869Z"
    }
   },
   "id": "fb18c1377d73d06c",
   "execution_count": 9
  },
  {
   "cell_type": "code",
   "outputs": [
    {
     "name": "stdout",
     "output_type": "stream",
     "text": [
      "SimpleQuantizator verbose statistics:\n",
      "- Header (in bytes): 32\n",
      "- Triangles strip entropy: 12.132\n",
      "- Triangles strip average code bit length: 12.355\n",
      "- Triangles strip (in bytes): 12037\n",
      "- Quantized vertices entropy: 11.52060517733206\n",
      "- Quantized vertices average code bit length: 12.002\n",
      "- Quantized vertices (in bytes): 11265\n",
      "GTSQuantizator(radix binary tree packing) statistics:\n",
      "- Bytes per triangle: 4.70\n",
      "- Bytes per vertex: 9.32\n",
      "- Compression rate: 3.84\n"
     ]
    }
   ],
   "source": [
    "gts_encoder_radix_binary_tree_packing = GTSQuantizator(pack_strip=Packing.RADIX_BINARY_TREE, verbose=True)\n",
    "compressed_model = gts_encoder_radix_binary_tree_packing.encode(bunny_model)\n",
    "\n",
    "print_statistics(compressed_model, \"GTSQuantizator(radix binary tree packing)\")"
   ],
   "metadata": {
    "collapsed": false,
    "ExecuteTime": {
     "end_time": "2024-11-13T09:52:57.541932Z",
     "start_time": "2024-11-13T09:52:56.045142Z"
    }
   },
   "id": "d86a1400546bcb91",
   "execution_count": 10
  },
  {
   "cell_type": "code",
   "outputs": [],
   "source": [],
   "metadata": {
    "collapsed": false
   },
   "id": "d99544af6c9bf377"
  }
 ],
 "metadata": {
  "kernelspec": {
   "display_name": "Python 3",
   "language": "python",
   "name": "python3"
  },
  "language_info": {
   "codemirror_mode": {
    "name": "ipython",
    "version": 2
   },
   "file_extension": ".py",
   "mimetype": "text/x-python",
   "name": "python",
   "nbconvert_exporter": "python",
   "pygments_lexer": "ipython2",
   "version": "2.7.6"
  }
 },
 "nbformat": 4,
 "nbformat_minor": 5
}
